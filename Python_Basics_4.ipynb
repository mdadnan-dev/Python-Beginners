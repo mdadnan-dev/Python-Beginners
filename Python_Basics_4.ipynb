{
 "cells": [
  {
   "cell_type": "markdown",
   "id": "5857cc75",
   "metadata": {},
   "source": [
    "## Lesson 4"
   ]
  },
  {
   "cell_type": "markdown",
   "id": "1b6a8d17",
   "metadata": {},
   "source": [
    "--> Dictionaries  \n",
    "--> Accessing values in dictionaries  \n",
    "--> Adding new key value pairs  \n",
    "--> Starting with an empty dictionary  \n",
    "--> Modifying Values in Dictionary  \n",
    "--> Removing Key-Value pairs  \n",
    "--> Looping Through a Dictionary  \n",
    "--> Looping only through keys  \n",
    "--> Looping in order in a Dictionary  \n",
    "--> Looping through Values in a Dictionary  \n",
    "--> List of Dictionaries  \n",
    "--> List in a Dictionary  \n",
    "--> Nested Dictionary  \n",
    "\n"
   ]
  },
  {
   "cell_type": "markdown",
   "id": "e2f1d608",
   "metadata": {},
   "source": [
    "### Dictionaries "
   ]
  },
  {
   "cell_type": "code",
   "execution_count": 13,
   "id": "3c129747",
   "metadata": {},
   "outputs": [
    {
     "name": "stdout",
     "output_type": "stream",
     "text": [
      "{'colour': 'green', 'points': 5}\n",
      "green\n",
      "5\n"
     ]
    }
   ],
   "source": [
    "alien = {'colour':'green','points':5}   # This assigns a key value pair to the variable alien\n",
    "                                        # Dictionaries are stored in the form of {key:value}\n",
    "                                        # Here colour , points are the keys\n",
    "                                        # Here green, 5 are values\n",
    "\n",
    "print(alien)            # This gives the output of all the key:value present in the dictionary alien\n",
    "print(alien['colour'])  # This gives the output of value present in the colour key\n",
    "print(alien['points'])  # This gives the output of value present in the points key"
   ]
  },
  {
   "cell_type": "code",
   "execution_count": 14,
   "id": "5480b2e3",
   "metadata": {},
   "outputs": [
    {
     "name": "stdout",
     "output_type": "stream",
     "text": [
      "{'Character': 'Wizard', 'points': 100}\n"
     ]
    }
   ],
   "source": [
    "game = {'Character':'Wizard','points':100}\n",
    "print(game)"
   ]
  },
  {
   "cell_type": "markdown",
   "id": "2ec43e4d",
   "metadata": {},
   "source": [
    "### Accessing values in dictionaries "
   ]
  },
  {
   "cell_type": "code",
   "execution_count": 15,
   "id": "58107c6b",
   "metadata": {},
   "outputs": [
    {
     "name": "stdout",
     "output_type": "stream",
     "text": [
      "{'Character': 'Wizard', 'points': 100}\n",
      "Wizard\n",
      "100\n"
     ]
    }
   ],
   "source": [
    "print(game)  # Gives all the key:value pairs present in the game dictionary\n",
    "\n",
    "print(game['Character'])  # Gives the value of the Character key\n",
    "print(game['points'])    # Gives the value of the points key"
   ]
  },
  {
   "cell_type": "code",
   "execution_count": 16,
   "id": "9df0dd9b",
   "metadata": {},
   "outputs": [
    {
     "name": "stdout",
     "output_type": "stream",
     "text": [
      "You are a Wizard use your ability and earn 100 points !\n"
     ]
    }
   ],
   "source": [
    "print(\"You are a\",game['Character'],\"use your ability and earn\",game['points'],'points !')"
   ]
  },
  {
   "cell_type": "code",
   "execution_count": 17,
   "id": "0f095ad7",
   "metadata": {},
   "outputs": [
    {
     "name": "stdout",
     "output_type": "stream",
     "text": [
      "You are a Wizard use your ability and earn 100 points\n"
     ]
    }
   ],
   "source": [
    "# You can also store each value in a seperate variable and use it \n",
    "\n",
    "avatar = game[\"Character\"]  # This stores the value of the Character key --> avatar now holds the value wizard\n",
    "score = game['points']    # This stores the value of the points key --> score now holds the value 100\n",
    "\n",
    "print(\"You are a \"+avatar+' use your ability and earn '+str(score)+' points')  # because 100 is an int we have to change it to string to use it in the output statement "
   ]
  },
  {
   "cell_type": "markdown",
   "id": "b0b310ad",
   "metadata": {},
   "source": [
    "### Adding new key value pairs "
   ]
  },
  {
   "cell_type": "code",
   "execution_count": 18,
   "id": "8c3e5548",
   "metadata": {},
   "outputs": [
    {
     "name": "stdout",
     "output_type": "stream",
     "text": [
      "{'Character': 'Wizard', 'points': 100}\n",
      "{'Character': 'Wizard', 'points': 100, 'enemy_1_x_position': 0, 'enemy_1_y_position': 25}\n"
     ]
    }
   ],
   "source": [
    "print(game)\n",
    "\n",
    "game['enemy_1_x_position'] = 0\n",
    "game['enemy_1_y_position'] = 25\n",
    "\n",
    "print(game)"
   ]
  },
  {
   "cell_type": "code",
   "execution_count": 19,
   "id": "69667180",
   "metadata": {},
   "outputs": [
    {
     "name": "stdout",
     "output_type": "stream",
     "text": [
      "{'Character': 'Wizard', 'points': 100, 'enemy_1_x_position': 0, 'enemy_1_y_position': 25, 'Enemy_kill_points': 1000, 'background_colour': 'Black'}\n"
     ]
    }
   ],
   "source": [
    "game['Enemy_kill_points'] = 1000\n",
    "game['background_colour'] = 'Black'\n",
    "\n",
    "print(game)"
   ]
  },
  {
   "cell_type": "markdown",
   "id": "3226189e",
   "metadata": {},
   "source": [
    "### Starting with an empty dictionary"
   ]
  },
  {
   "cell_type": "code",
   "execution_count": 20,
   "id": "6675cca0",
   "metadata": {},
   "outputs": [
    {
     "name": "stdout",
     "output_type": "stream",
     "text": [
      "{}\n"
     ]
    }
   ],
   "source": [
    "football_team = {}\n",
    "print(football_team)"
   ]
  },
  {
   "cell_type": "code",
   "execution_count": 21,
   "id": "0e4c6984",
   "metadata": {},
   "outputs": [],
   "source": [
    "football_team['Left_Winger']= 'Cristiano Ronaldo'\n",
    "football_team['Right_Winger'] = 'Gareth Bale'\n",
    "football_team['Striker'] = \"Karim Benzema\"\n",
    "football_team['Left_Midfielder'] = 'Tony Kroos'\n",
    "football_team['Right_Midfielder'] = 'Luka Modric'\n",
    "football_team['Center_Midfielder'] = 'Mesut Ozil'\n",
    "football_team['Left_Back'] = 'Marcelo'\n",
    "football_team['Left_Center_Back'] = 'Ramos'\n",
    "football_team['Right_Center_Back'] = 'Pepe'\n",
    "football_team['Right_Back'] = 'Dani Carvajal'"
   ]
  },
  {
   "cell_type": "code",
   "execution_count": 22,
   "id": "e2db8582",
   "metadata": {},
   "outputs": [
    {
     "name": "stdout",
     "output_type": "stream",
     "text": [
      "{'Left_Winger': 'Cristiano Ronaldo', 'Right_Winger': 'Gareth Bale', 'Striker': 'Karim Benzema', 'Left_Midfielder': 'Tony Kroos', 'Right_Midfielder': 'Luka Modric', 'Center_Midfielder': 'Mesut Ozil', 'Left_Back': 'Marcelo', 'Left_Center_Back': 'Ramos', 'Right_Center_Back': 'Pepe', 'Right_Back': 'Dani Carvajal'}\n"
     ]
    }
   ],
   "source": [
    "print(football_team)"
   ]
  },
  {
   "cell_type": "markdown",
   "id": "894f85f0",
   "metadata": {},
   "source": [
    "### Modifying Values in Dictionary"
   ]
  },
  {
   "cell_type": "code",
   "execution_count": 23,
   "id": "dae51d3c",
   "metadata": {},
   "outputs": [
    {
     "name": "stdout",
     "output_type": "stream",
     "text": [
      "Real Madrid's right winger is  Gareth Bale\n",
      "The new Real Madrid right winger is Rodrygo\n"
     ]
    }
   ],
   "source": [
    "print(\"Real Madrid's right winger is \",football_team['Right_Winger'])\n",
    "\n",
    "football_team['Right_Winger'] = 'Rodrygo'\n",
    "\n",
    "print(\"The new Real Madrid right winger is\",football_team['Right_Winger'])"
   ]
  },
  {
   "cell_type": "code",
   "execution_count": 24,
   "id": "7e0bbc2b",
   "metadata": {},
   "outputs": [
    {
     "name": "stdout",
     "output_type": "stream",
     "text": [
      "{'Character': 'Wizard', 'points': 100, 'enemy_1_x_position': 0, 'enemy_1_y_position': 25, 'Enemy_kill_points': 1000, 'background_colour': 'Black', 'speed': 'fast', 'Character_position': 0}\n"
     ]
    }
   ],
   "source": [
    "game['speed'] ='fast'\n",
    "game['Character_position'] = 0\n",
    "print(game)"
   ]
  },
  {
   "cell_type": "code",
   "execution_count": 25,
   "id": "4faf1b40",
   "metadata": {},
   "outputs": [
    {
     "name": "stdout",
     "output_type": "stream",
     "text": [
      "Start Position of character- 0\n",
      "Current position of Character -  3\n"
     ]
    }
   ],
   "source": [
    "print('Start Position of character-',str(game['Character_position']))  # We print the value that is present in the dictionary -> 0\n",
    "\n",
    "if game['speed'] == 'slow':   # if the value of speed is slow then the variable increment stores value 1\n",
    "    increment = 1\n",
    "elif game['speed'] == 'medium':  # if the value of speed is medium then the variable increment stores value 2\n",
    "    increment = 2\n",
    "else:   # if the value of speed is not slow or not medium then the else block runs and stores the increment value as 3\n",
    "    increment = 3\n",
    "    \n",
    "game['Character_position'] += increment  # Here we are adding the value increment to the value of character_position -->  Character_position = 0 + 3 --> Character_position = 3\n",
    "print(\"Current position of Character - \",str(game['Character_position']))  # So the new value 3 is printed here "
   ]
  },
  {
   "cell_type": "markdown",
   "id": "78457380",
   "metadata": {},
   "source": [
    "### Removing Key-Value pairs "
   ]
  },
  {
   "cell_type": "code",
   "execution_count": 26,
   "id": "0adff4e7",
   "metadata": {},
   "outputs": [
    {
     "name": "stdout",
     "output_type": "stream",
     "text": [
      "{'Character': 'Wizard', 'points': 100, 'enemy_1_x_position': 0, 'enemy_1_y_position': 25, 'Enemy_kill_points': 1000, 'background_colour': 'Black', 'speed': 'fast', 'Character_position': 3}\n"
     ]
    }
   ],
   "source": [
    "print(game)  "
   ]
  },
  {
   "cell_type": "code",
   "execution_count": 27,
   "id": "b8523cc2",
   "metadata": {},
   "outputs": [
    {
     "name": "stdout",
     "output_type": "stream",
     "text": [
      "{'Character': 'Wizard', 'points': 100, 'enemy_1_y_position': 25, 'Enemy_kill_points': 1000, 'background_colour': 'Black', 'speed': 'fast', 'Character_position': 3}\n"
     ]
    }
   ],
   "source": [
    "del game['enemy_1_x_position'] # This key-value pair is deleted from the dictionary\n",
    "print(game)"
   ]
  },
  {
   "cell_type": "code",
   "execution_count": 28,
   "id": "cb38cdb7",
   "metadata": {},
   "outputs": [
    {
     "name": "stdout",
     "output_type": "stream",
     "text": [
      "{'Character': 'Wizard', 'points': 100, 'Enemy_kill_points': 1000, 'background_colour': 'Black', 'speed': 'fast', 'Character_position': 3}\n"
     ]
    }
   ],
   "source": [
    "del game['enemy_1_y_position'] # This key value pair is deleted from the dictionary\n",
    "print(game)"
   ]
  },
  {
   "cell_type": "markdown",
   "id": "7f851610",
   "metadata": {},
   "source": [
    "### Looping Through a Dictionary"
   ]
  },
  {
   "cell_type": "code",
   "execution_count": 29,
   "id": "3af4ad20",
   "metadata": {},
   "outputs": [
    {
     "name": "stdout",
     "output_type": "stream",
     "text": [
      "{'username': 'mdadnan', 'First_Name': 'Mohammed', 'Last_Name': 'Adnan'}\n"
     ]
    }
   ],
   "source": [
    "SignUp = {'username':'mdadnan',\n",
    "         'First_Name': 'Mohammed',\n",
    "         'Last_Name': \"Adnan\"}\n",
    "\n",
    "print(SignUp)"
   ]
  },
  {
   "cell_type": "code",
   "execution_count": 30,
   "id": "e50e0f91",
   "metadata": {},
   "outputs": [
    {
     "name": "stdout",
     "output_type": "stream",
     "text": [
      "\n",
      "Key:  username\n",
      "Value:  mdadnan\n",
      "\n",
      "Key:  First_Name\n",
      "Value:  Mohammed\n",
      "\n",
      "Key:  Last_Name\n",
      "Value:  Adnan\n"
     ]
    }
   ],
   "source": [
    "for key,value in SignUp.items():  # The items() gives key-value pairs from the dictionary as tuples \n",
    "                                  # dict_items(['username', 'mdadnan'), ('First_Name', 'Mohammed'), ('Last_Name', 'Adnan')])\n",
    "                                  # the variable key stores the key values -> username, First_Name, Last_Name \n",
    "                                  # the variable value stores the values ->    mdadnan,  Mohammed , Adnan\n",
    "    print('\\nKey: ',key)          \n",
    "    print('Value: ',value)"
   ]
  },
  {
   "cell_type": "code",
   "execution_count": 31,
   "id": "2aff0eef",
   "metadata": {},
   "outputs": [
    {
     "name": "stdout",
     "output_type": "stream",
     "text": [
      "dict_items([('username', 'mdadnan'), ('First_Name', 'Mohammed'), ('Last_Name', 'Adnan')])\n"
     ]
    }
   ],
   "source": [
    "print(SignUp.items())"
   ]
  },
  {
   "cell_type": "code",
   "execution_count": 32,
   "id": "62c61d2c",
   "metadata": {},
   "outputs": [
    {
     "name": "stdout",
     "output_type": "stream",
     "text": [
      "{'Adnan': 'Python', 'James': 'sql', 'Mark': 'c', 'Jacob': 'JAVA', 'Steve': 'SQL'}\n"
     ]
    }
   ],
   "source": [
    "Language_Poll = {'Adnan':'Python',\n",
    "                'James':'sql',\n",
    "                'Mark': 'c',\n",
    "                'Jacob':'JAVA',\n",
    "                \"Steve\":'SQL'}\n",
    "print(Language_Poll)"
   ]
  },
  {
   "cell_type": "code",
   "execution_count": 33,
   "id": "16842b8d",
   "metadata": {},
   "outputs": [
    {
     "name": "stdout",
     "output_type": "stream",
     "text": [
      "Adnan 's is learning PYTHON\n",
      "James 's is learning SQL\n",
      "Mark 's is learning C\n",
      "Jacob 's is learning JAVA\n",
      "Steve 's is learning SQL\n"
     ]
    }
   ],
   "source": [
    "for name,language in Language_Poll.items():  # The item contains the key-value pairs in tuple form\n",
    "                                             # name stores  --> Adnan,James,Mark,Jacob,Steve\n",
    "                                             # while langauge stores --> Python,sql,c,JAVA,SQL\n",
    "    print(name.title(),\"'s is learning\",language.upper())"
   ]
  },
  {
   "cell_type": "markdown",
   "id": "ae1d243b",
   "metadata": {},
   "source": [
    "### Looping only through keys"
   ]
  },
  {
   "cell_type": "code",
   "execution_count": 34,
   "id": "031efbd0",
   "metadata": {},
   "outputs": [
    {
     "name": "stdout",
     "output_type": "stream",
     "text": [
      "{'Adnan': 'Python', 'James': 'sql', 'Mark': 'c', 'Jacob': 'JAVA', 'Steve': 'SQL'}\n"
     ]
    }
   ],
   "source": [
    "print(Language_Poll)"
   ]
  },
  {
   "cell_type": "code",
   "execution_count": 35,
   "id": "055d56bc",
   "metadata": {},
   "outputs": [
    {
     "name": "stdout",
     "output_type": "stream",
     "text": [
      "Adnan\n",
      "James\n",
      "Mark\n",
      "Jacob\n",
      "Steve\n"
     ]
    }
   ],
   "source": [
    "for name in Language_Poll.keys():  # The method keys() stores only the Keys --> Adnan,James,Mark,Jacob,Steve\n",
    "    print(name)"
   ]
  },
  {
   "cell_type": "code",
   "execution_count": 36,
   "id": "16e933e2",
   "metadata": {},
   "outputs": [
    {
     "name": "stdout",
     "output_type": "stream",
     "text": [
      "{'Left_Winger': 'Cristiano Ronaldo', 'Right_Winger': 'Rodrygo', 'Striker': 'Karim Benzema', 'Left_Midfielder': 'Tony Kroos', 'Right_Midfielder': 'Luka Modric', 'Center_Midfielder': 'Mesut Ozil', 'Left_Back': 'Marcelo', 'Left_Center_Back': 'Ramos', 'Right_Center_Back': 'Pepe', 'Right_Back': 'Dani Carvajal'}\n"
     ]
    }
   ],
   "source": [
    "print(football_team)"
   ]
  },
  {
   "cell_type": "code",
   "execution_count": 37,
   "id": "9a78074a",
   "metadata": {},
   "outputs": [
    {
     "name": "stdout",
     "output_type": "stream",
     "text": [
      "Left_Winger\n",
      "Right_Winger\n",
      "Striker\n",
      "Left_Midfielder\n",
      "Right_Midfielder\n",
      "Center_Midfielder\n",
      "Left_Back\n",
      "Left_Center_Back\n",
      "Right_Center_Back\n",
      "Right_Back\n"
     ]
    }
   ],
   "source": [
    "for name in football_team.keys():  # This stores all the values of keys present in the dictionary\n",
    "    print(name)"
   ]
  },
  {
   "cell_type": "code",
   "execution_count": 38,
   "id": "49653c02",
   "metadata": {},
   "outputs": [
    {
     "name": "stdout",
     "output_type": "stream",
     "text": [
      "{'Adnan': 'Python', 'James': 'sql', 'Mark': 'c', 'Jacob': 'JAVA', 'Steve': 'SQL'}\n"
     ]
    }
   ],
   "source": [
    "print(Language_Poll)"
   ]
  },
  {
   "cell_type": "code",
   "execution_count": 40,
   "id": "8f14d3b8",
   "metadata": {},
   "outputs": [
    {
     "name": "stdout",
     "output_type": "stream",
     "text": [
      "Adnan\n",
      "Hi Adnan you are learning Python\n",
      "James\n",
      "Mark\n",
      "Jacob\n",
      "Steve\n",
      "Hi Steve you are learning Sql\n"
     ]
    }
   ],
   "source": [
    "friends = ['Adnan','Steve']           # We are creating a list and storing it in a variable friends\n",
    "for name in Language_Poll.keys():    # In this for loop the name stores values of all the keys present in the Language_Poll\n",
    "                                     # name -> Adnan,James,Mark,Jacob,Steve\n",
    "    print(name)   \n",
    "    if name in friends:           # This condition checks if name values are present in the friends list then the below print statement executes \n",
    "        print(\"Hi\",name,\"you are learning\",Language_Poll[name].title())"
   ]
  },
  {
   "cell_type": "code",
   "execution_count": 41,
   "id": "b31d000b",
   "metadata": {},
   "outputs": [
    {
     "name": "stdout",
     "output_type": "stream",
     "text": [
      "{'Left_Winger': 'Cristiano Ronaldo', 'Right_Winger': 'Rodrygo', 'Striker': 'Karim Benzema', 'Left_Midfielder': 'Tony Kroos', 'Right_Midfielder': 'Luka Modric', 'Center_Midfielder': 'Mesut Ozil', 'Left_Back': 'Marcelo', 'Left_Center_Back': 'Ramos', 'Right_Center_Back': 'Pepe', 'Right_Back': 'Dani Carvajal'}\n"
     ]
    }
   ],
   "source": [
    "print(football_team)"
   ]
  },
  {
   "cell_type": "code",
   "execution_count": 45,
   "id": "e5e04122",
   "metadata": {},
   "outputs": [
    {
     "name": "stdout",
     "output_type": "stream",
     "text": [
      "Left_Winger\n",
      "The best player at this Left_Winger is Cristiano Ronaldo\n",
      "Right_Winger\n",
      "Striker\n",
      "Left_Midfielder\n",
      "Right_Midfielder\n",
      "Center_Midfielder\n",
      "Left_Back\n",
      "Left_Center_Back\n",
      "Right_Center_Back\n",
      "Right_Back\n"
     ]
    }
   ],
   "source": [
    "lineup = ['Left_Winger']   # Here we are storing the value Left_Winger \n",
    "                           # If we give the value Left Winger we won't get our desire output of Ronaldo\n",
    "for position in football_team.keys():   # In this for loop the position variable is storing all the keys present in the football_team dictionary\n",
    "    print(position)\n",
    "    if position in lineup:    # Now this checks the condition if the list of [lineup] matches the position value [Left_Winger in both the variables]\n",
    "                             #  then the below statement is executed \n",
    "        print(\"The best player at this\",position,'is',football_team[position])"
   ]
  },
  {
   "cell_type": "markdown",
   "id": "9bc94068",
   "metadata": {},
   "source": [
    "### Looping in order in a Dictionary "
   ]
  },
  {
   "cell_type": "code",
   "execution_count": 46,
   "id": "29096b0e",
   "metadata": {},
   "outputs": [
    {
     "name": "stdout",
     "output_type": "stream",
     "text": [
      "{'Adnan': 'Python', 'James': 'sql', 'Mark': 'c', 'Jacob': 'JAVA', 'Steve': 'SQL'}\n"
     ]
    }
   ],
   "source": [
    "print(Language_Poll)"
   ]
  },
  {
   "cell_type": "code",
   "execution_count": 48,
   "id": "8f838dc8",
   "metadata": {},
   "outputs": [
    {
     "name": "stdout",
     "output_type": "stream",
     "text": [
      "Adnan , Hope you complete learning these languages !\n",
      "Jacob , Hope you complete learning these languages !\n",
      "James , Hope you complete learning these languages !\n",
      "Mark , Hope you complete learning these languages !\n",
      "Steve , Hope you complete learning these languages !\n"
     ]
    }
   ],
   "source": [
    "for names in sorted(Language_Poll.keys()):      # 1. the keys are stored from the dictionary Language_Poll\n",
    "                                                # 2. the keys are sorted in ascending order due to the sorted()\n",
    "                                                # 3. the sorted keys are then stored in names \n",
    "    print(names,', Hope you complete learning these languages !')"
   ]
  },
  {
   "cell_type": "markdown",
   "id": "88ce90a7",
   "metadata": {},
   "source": [
    "### Looping through Values in a Dictionary "
   ]
  },
  {
   "cell_type": "code",
   "execution_count": 50,
   "id": "baa790f4",
   "metadata": {},
   "outputs": [
    {
     "name": "stdout",
     "output_type": "stream",
     "text": [
      "{'Adnan': 'Python', 'James': 'sql', 'Mark': 'c', 'Jacob': 'JAVA', 'Steve': 'SQL'}\n"
     ]
    }
   ],
   "source": [
    "print(Language_Poll)"
   ]
  },
  {
   "cell_type": "code",
   "execution_count": 53,
   "id": "41fa1fbb",
   "metadata": {},
   "outputs": [
    {
     "name": "stdout",
     "output_type": "stream",
     "text": [
      "Language Selected -\n",
      "PYTHON\n",
      "SQL\n",
      "C\n",
      "JAVA\n",
      "SQL\n"
     ]
    }
   ],
   "source": [
    "print(\"Language Selected -\")\n",
    "for language in Language_Poll.values():   # The values of the dictionary Language_Poll are stored in language \n",
    "    print(language.upper())"
   ]
  },
  {
   "cell_type": "markdown",
   "id": "8c0e055c",
   "metadata": {},
   "source": [
    "### List of Dictionaries"
   ]
  },
  {
   "cell_type": "code",
   "execution_count": 54,
   "id": "f587e38d",
   "metadata": {},
   "outputs": [
    {
     "name": "stdout",
     "output_type": "stream",
     "text": [
      "{'Mathematics': 100, 'Discrete_Mathematics': 50}\n",
      "\n",
      " {'DataBase Management System': 70, 'OOPs using JAVA': 55}\n",
      "\n",
      " {'Distributed Systems': 86, 'Deep Learning': 97}\n"
     ]
    }
   ],
   "source": [
    "# Here we are creating a dictionary for 3 Test taken by a student \n",
    "\n",
    "Test_1 ={'Mathematics':100,'Discrete_Mathematics':50}\n",
    "Test_2 = {'DataBase Management System':70,'OOPs using JAVA':55}\n",
    "Test_3 = {'Distributed Systems':86, 'Deep Learning': 97}\n",
    "\n",
    "print(Test_1)\n",
    "print('\\n',Test_2)\n",
    "print('\\n',Test_3)"
   ]
  },
  {
   "cell_type": "code",
   "execution_count": 55,
   "id": "62f7da6d",
   "metadata": {},
   "outputs": [
    {
     "name": "stdout",
     "output_type": "stream",
     "text": [
      "{'Mathematics': 100, 'Discrete_Mathematics': 50}\n",
      "{'DataBase Management System': 70, 'OOPs using JAVA': 55}\n",
      "{'Distributed Systems': 86, 'Deep Learning': 97}\n"
     ]
    }
   ],
   "source": [
    "All_test = [Test_1,Test_2,Test_3]  # We are creating a list of all the Test and storing it in a variable All_test\n",
    "\n",
    "for test in All_test:\n",
    "    print(test)"
   ]
  },
  {
   "cell_type": "code",
   "execution_count": 56,
   "id": "94c4f163",
   "metadata": {},
   "outputs": [
    {
     "name": "stdout",
     "output_type": "stream",
     "text": [
      "{'Character': 'Wizard', 'points': 100, 'Enemy_kill_points': 1000, 'background_colour': 'Black', 'speed': 'fast', 'Character_position': 3}\n"
     ]
    }
   ],
   "source": [
    "print(game)"
   ]
  },
  {
   "cell_type": "code",
   "execution_count": 76,
   "id": "2a00b6ab",
   "metadata": {},
   "outputs": [
    {
     "name": "stdout",
     "output_type": "stream",
     "text": [
      "{'Character': 'Wizard', 'points': 100, 'background_colour': 'Black', 'speed': 'fast'}\n",
      "{'Character': 'Wizard', 'points': 100, 'background_colour': 'Black', 'speed': 'fast'}\n",
      "{'Character': 'Wizard', 'points': 100, 'background_colour': 'Black', 'speed': 'fast'}\n",
      "{'Character': 'Wizard', 'points': 100, 'background_colour': 'Black', 'speed': 'fast'}\n",
      "{'Character': 'Wizard', 'points': 100, 'background_colour': 'Black', 'speed': 'fast'}\n",
      "{'Character': 'Wizard', 'points': 100, 'background_colour': 'Black', 'speed': 'fast'}\n"
     ]
    }
   ],
   "source": [
    "Rise_Of_The_King = []   # Here we are giving an empty list to the variable\n",
    "for character in range(30):     # We are setting a range of 30 \n",
    "    new_game = {'Character': 'Wizard', 'points': 100,'background_colour': 'Black', 'speed': 'fast'}   # The variable new_game stores these values for 30 times\n",
    "    Rise_Of_The_King.append(new_game)   # The above empty list stores the value present in the new_game[30 times] \n",
    "\n",
    "for users in Rise_Of_The_King[:6]:    # We are printing the first 6 values present in the Rise_Of_The_King\n",
    "    print(users)"
   ]
  },
  {
   "cell_type": "code",
   "execution_count": 74,
   "id": "0c4a5cfb",
   "metadata": {},
   "outputs": [
    {
     "name": "stdout",
     "output_type": "stream",
     "text": [
      "Total dictionaries in the list Rise_Of_The_King- 30\n"
     ]
    }
   ],
   "source": [
    "print(\"Total dictionaries in the list Rise_Of_The_King-\", len(Rise_Of_The_King))"
   ]
  },
  {
   "cell_type": "code",
   "execution_count": 77,
   "id": "e52615be",
   "metadata": {},
   "outputs": [
    {
     "name": "stdout",
     "output_type": "stream",
     "text": [
      "{'Character': 'Pawn', 'points': '200', 'background_colour': 'Black', 'speed': 'medium'}\n",
      "{'Character': 'Pawn', 'points': '200', 'background_colour': 'Black', 'speed': 'medium'}\n",
      "{'Character': 'Wizard', 'points': 100, 'background_colour': 'Black', 'speed': 'fast'}\n",
      "{'Character': 'Wizard', 'points': 100, 'background_colour': 'Black', 'speed': 'fast'}\n",
      "{'Character': 'Wizard', 'points': 100, 'background_colour': 'Black', 'speed': 'fast'}\n",
      "{'Character': 'Wizard', 'points': 100, 'background_colour': 'Black', 'speed': 'fast'}\n"
     ]
    }
   ],
   "source": [
    "# The great thing about this is we can edit the dictionary \n",
    "\n",
    "\n",
    "for users in Rise_Of_The_King[0:2]:    # Here we are slicing the dictionary \n",
    "    if users['Character'] == 'Wizard':  # we are applying the condition that where the character = Wizard , edit the key-value pairs\n",
    "        users['points'] = '200'\n",
    "        users['speed'] = 'medium'\n",
    "        users['Character'] = 'Pawn'\n",
    "for users in Rise_Of_The_King[:6]:    # We are printing the first 6 values present in the Rise_Of_The_King\n",
    "    print(users)"
   ]
  },
  {
   "cell_type": "code",
   "execution_count": 78,
   "id": "1433660f",
   "metadata": {},
   "outputs": [
    {
     "name": "stdout",
     "output_type": "stream",
     "text": [
      "{'Character': 'Queen', 'points': '500', 'background_colour': 'Black', 'speed': 'Very Fast'}\n",
      "{'Character': 'Queen', 'points': '500', 'background_colour': 'Black', 'speed': 'Very Fast'}\n",
      "{'Character': 'Pawn', 'points': '200', 'background_colour': 'Black', 'speed': 'medium'}\n",
      "{'Character': 'Pawn', 'points': '200', 'background_colour': 'Black', 'speed': 'medium'}\n",
      "{'Character': 'Pawn', 'points': '200', 'background_colour': 'Black', 'speed': 'medium'}\n",
      "{'Character': 'Pawn', 'points': '200', 'background_colour': 'Black', 'speed': 'medium'}\n",
      "{'Character': 'Pawn', 'points': '200', 'background_colour': 'Black', 'speed': 'medium'}\n",
      "{'Character': 'Pawn', 'points': '200', 'background_colour': 'Black', 'speed': 'medium'}\n"
     ]
    }
   ],
   "source": [
    "for users in Rise_Of_The_King[0:8]:   # This for loop is only applied to values present from 0th index to 7th index\n",
    "    \n",
    "    if users['Character'] == 'Wizard':     # The condition if Character = Wizard then we are updating the values to Pawn,200,medium\n",
    "        users['points'] = '200'\n",
    "        users['speed'] = 'medium'\n",
    "        users['Character'] = 'Pawn'\n",
    "        \n",
    "    elif users['Character'] == 'Pawn':   # The elif condition takes place when the if condition is false and when the value of Character = Pawn\n",
    "                                         # Then the values are updated to Queen, Very Fast, 500\n",
    "        users['points'] = '500'\n",
    "        users['speed'] = 'Very Fast'\n",
    "        users['Character'] = 'Queen'\n",
    "\n",
    "for users in Rise_Of_The_King[0:8]:    # This prints the output of the first 7 indexes \n",
    "    print(users)"
   ]
  },
  {
   "cell_type": "markdown",
   "id": "f89b7dc5",
   "metadata": {},
   "source": [
    "### List in a Dictionary"
   ]
  },
  {
   "cell_type": "code",
   "execution_count": 82,
   "id": "da33be33",
   "metadata": {},
   "outputs": [
    {
     "name": "stdout",
     "output_type": "stream",
     "text": [
      "{'Size': 'Large', 'Extra ingredients': ['2 Chicken Patties', '2 Cheese Layers', '1 Extra Barbeuque Sauce']}\n"
     ]
    }
   ],
   "source": [
    "Burger = {'Size':'Large',\n",
    "         'Extra ingredients':['2 Chicken Patties','2 Cheese Layers','1 Extra Barbeuque Sauce']} \n",
    "            \n",
    "        # We have created a dictionary which consists of a list in its values \n",
    "print(Burger)"
   ]
  },
  {
   "cell_type": "code",
   "execution_count": 83,
   "id": "1c865644",
   "metadata": {},
   "outputs": [
    {
     "name": "stdout",
     "output_type": "stream",
     "text": [
      "You ordered a  Large Burger , and extra ingredients -\n",
      "2 Chicken Patties\n",
      "2 Cheese Layers\n",
      "1 Extra Barbeuque Sauce\n"
     ]
    }
   ],
   "source": [
    "print(\"You ordered a \",Burger['Size'],\"Burger , and extra ingredients -\")\n",
    "\n",
    "for values in Burger['Extra ingredients']:        # The values takes the elements present in the list of 'Extra Ingredients'\n",
    "                                                  # values consists of  3 elements ->['2 Chicken Patties', '2 Cheese Layers', '1 Extra Barbeuque Sauce']\n",
    "    print(values)"
   ]
  },
  {
   "cell_type": "code",
   "execution_count": 84,
   "id": "8bc4c151",
   "metadata": {},
   "outputs": [
    {
     "name": "stdout",
     "output_type": "stream",
     "text": [
      "{'Jack': ['English', 'Portugese'], 'Adnan': ['Urdu', 'Hindi', 'Telugu', 'English'], 'Ahmed': ['Japanese', 'English', 'Tamil'], 'Jessie': ['English']}\n"
     ]
    }
   ],
   "source": [
    "Fav_Languages = {'Jack':['English','Portugese'],\n",
    "                'Adnan':['Urdu','Hindi','Telugu','English'],\n",
    "                'Ahmed':['Japanese','English','Tamil'],\n",
    "                'Jessie':['English']}\n",
    "print(Fav_Languages)"
   ]
  },
  {
   "cell_type": "code",
   "execution_count": 86,
   "id": "ff2208bc",
   "metadata": {},
   "outputs": [
    {
     "name": "stdout",
     "output_type": "stream",
     "text": [
      "Jack can speak fluently in \n",
      "  English\n",
      "  Portugese\n",
      "Adnan can speak fluently in \n",
      "  Urdu\n",
      "  Hindi\n",
      "  Telugu\n",
      "  English\n",
      "Ahmed can speak fluently in \n",
      "  Japanese\n",
      "  English\n",
      "  Tamil\n",
      "Jessie can speak fluently in \n",
      "  English\n"
     ]
    }
   ],
   "source": [
    "for name,languages in Fav_Languages.items():\n",
    "    print(name,\"can speak fluently in \")\n",
    "    for language in languages:\n",
    "        print(' ',language)"
   ]
  },
  {
   "cell_type": "markdown",
   "id": "6ea8ef79",
   "metadata": {},
   "source": [
    "### Nested Dictionary "
   ]
  },
  {
   "cell_type": "code",
   "execution_count": 2,
   "id": "b0a94261",
   "metadata": {},
   "outputs": [],
   "source": [
    "users = {\n",
    "    'mdadnan':{\n",
    "        'first_Name':'Adnan',\n",
    "        'Last_Name':'Mohammed',\n",
    "        'location':'Hyderabad'\n",
    "    },\n",
    "    'elon':{\n",
    "        'first_Name':'Elon',\n",
    "        'Last_Name':'Musk',\n",
    "        'location':'Washington DC'\n",
    "    }\n",
    "}\n",
    "\n",
    "# Here we are creating a dictionary inside a dictionary \n",
    "# The main dictionary consists of usernames [mdadnan, elon]\n",
    "# Now inside the username is another dicitonary created that defines the firstname lastname and location of the user"
   ]
  },
  {
   "cell_type": "code",
   "execution_count": 3,
   "id": "5a8229e0",
   "metadata": {},
   "outputs": [
    {
     "data": {
      "text/plain": [
       "{'mdadnan': {'first_Name': 'Adnan',\n",
       "  'Last_Name': 'Mohammed',\n",
       "  'location': 'Hyderabad'},\n",
       " 'elon': {'first_Name': 'Elon',\n",
       "  'Last_Name': 'Musk',\n",
       "  'location': 'Washington DC'}}"
      ]
     },
     "execution_count": 3,
     "metadata": {},
     "output_type": "execute_result"
    }
   ],
   "source": [
    "users"
   ]
  },
  {
   "cell_type": "code",
   "execution_count": 8,
   "id": "87a76643",
   "metadata": {},
   "outputs": [
    {
     "name": "stdout",
     "output_type": "stream",
     "text": [
      "Username- mdadnan\n",
      "Full Name- Adnan Mohammed\n",
      "Location- Hyderabad \n",
      "\n",
      "Username- elon\n",
      "Full Name- Elon Musk\n",
      "Location- Washington DC \n",
      "\n"
     ]
    }
   ],
   "source": [
    "for username,user in users.items():   # The variable username will consists of values ->  mdadnan, elon\n",
    "                                     # The user will contain the values -> {'first_Name': 'Adnan','Last_Name': 'Mohammed','location': 'Hyderabad'}\n",
    "                                     # and {'first_Name': 'Elon','Last_Name': 'Musk',  'location': 'Washington DC'}\n",
    "    print('Username-',username)\n",
    "    \n",
    "    fullname = user['first_Name'] +\" \"+ user['Last_Name']   # Here we are concating the firstName and LastName storing it in the variable full name\n",
    "    print('Full Name-',fullname) \n",
    "    \n",
    "    location = user['location']       \n",
    "    print('Location-',location,'\\n')"
   ]
  },
  {
   "cell_type": "code",
   "execution_count": null,
   "id": "8e569e93",
   "metadata": {},
   "outputs": [],
   "source": []
  }
 ],
 "metadata": {
  "kernelspec": {
   "display_name": "Python 3 (ipykernel)",
   "language": "python",
   "name": "python3"
  },
  "language_info": {
   "codemirror_mode": {
    "name": "ipython",
    "version": 3
   },
   "file_extension": ".py",
   "mimetype": "text/x-python",
   "name": "python",
   "nbconvert_exporter": "python",
   "pygments_lexer": "ipython3",
   "version": "3.11.5"
  }
 },
 "nbformat": 4,
 "nbformat_minor": 5
}
