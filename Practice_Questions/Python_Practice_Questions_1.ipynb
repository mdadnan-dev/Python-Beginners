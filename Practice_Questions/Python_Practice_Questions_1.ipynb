{
 "cells": [
  {
   "cell_type": "markdown",
   "id": "ef20de3f",
   "metadata": {},
   "source": [
    "#### Q1.  Store a message in a variable, and then print that message"
   ]
  },
  {
   "cell_type": "code",
   "execution_count": 2,
   "id": "359fc34c",
   "metadata": {},
   "outputs": [
    {
     "name": "stdout",
     "output_type": "stream",
     "text": [
      "Good Morning\n"
     ]
    }
   ],
   "source": [
    "message = \"Good Morning\"\n",
    "print(message)"
   ]
  },
  {
   "cell_type": "markdown",
   "id": "b198c7df",
   "metadata": {},
   "source": [
    "#### Q2. Store a message in a variable, and print that message.Then change the value of your variable to a new message, and print the new message"
   ]
  },
  {
   "cell_type": "code",
   "execution_count": 3,
   "id": "f417fcb3",
   "metadata": {},
   "outputs": [
    {
     "name": "stdout",
     "output_type": "stream",
     "text": [
      "Good Morning\n",
      "Good Morning Adnan ! \n"
     ]
    }
   ],
   "source": [
    "message = \"Good Morning\"\n",
    "print(message)\n",
    "\n",
    "message = \"Good Morning Adnan ! \"\n",
    "print(message)"
   ]
  },
  {
   "cell_type": "markdown",
   "id": "134addb0",
   "metadata": {},
   "source": [
    " ####  Q3. Store a person’s name in a variable, and print a message to that person . Your message should be simple, such as, “Hello Eric,would you like to learn some Python today?”"
   ]
  },
  {
   "cell_type": "code",
   "execution_count": 9,
   "id": "5147bbfb",
   "metadata": {},
   "outputs": [
    {
     "name": "stdout",
     "output_type": "stream",
     "text": [
      "Hello Adnan, would you like to learn some Pyton today ?\n"
     ]
    }
   ],
   "source": [
    "name = 'Adnan'\n",
    "print(\"Hello \"+name+\", would you like to learn some Pyton today ?\")"
   ]
  },
  {
   "cell_type": "markdown",
   "id": "de0bc63d",
   "metadata": {},
   "source": [
    "#### Q4.  Store a person’s name in a variable, and then print that person’s name in lowercase, uppercase, and titlecase "
   ]
  },
  {
   "cell_type": "code",
   "execution_count": 10,
   "id": "8a31e691",
   "metadata": {},
   "outputs": [
    {
     "name": "stdout",
     "output_type": "stream",
     "text": [
      "Uppercase -  MOHAMMED ADNAN\n",
      "Lowercase -  mohammed adnan\n",
      "Titlecase -  Mohammed Adnan\n"
     ]
    }
   ],
   "source": [
    "name = 'MOHAMMED adnan'\n",
    "print(\"Uppercase - \",name.upper())\n",
    "print(\"Lowercase - \",name.lower())\n",
    "print(\"Titlecase - \",name.title())"
   ]
  },
  {
   "cell_type": "markdown",
   "id": "7b166007",
   "metadata": {},
   "source": [
    " ####  Q5. Find a quote from a famous person you admire . Print the quote and the name of its author . Your output should look something like the following, including the quotation marks:\n",
    " #### Albert Einstein once said, “A person who never made a mistake never tried anything new.”"
   ]
  },
  {
   "cell_type": "code",
   "execution_count": 23,
   "id": "dae14fb6",
   "metadata": {},
   "outputs": [
    {
     "name": "stdout",
     "output_type": "stream",
     "text": [
      " The most important thing is to try and inspire people\n",
      " so that they can be great in whatever they want to do.\n",
      "                                                    - Kobe Bryant\n"
     ]
    }
   ],
   "source": [
    "print(''' The most important thing is to try and inspire people\n",
    " so that they can be great in whatever they want to do.\n",
    "                                                    - Kobe Bryant''')\n"
   ]
  },
  {
   "cell_type": "markdown",
   "id": "96638fa9",
   "metadata": {},
   "source": [
    " #### Q6. Repeat the above exercise, but this time store the famous per son’s name in a variable called famous_person . Then compose your message and store it in a new variable called message . Print your message "
   ]
  },
  {
   "cell_type": "code",
   "execution_count": 24,
   "id": "22307848",
   "metadata": {},
   "outputs": [
    {
     "name": "stdout",
     "output_type": "stream",
     "text": [
      "Kobe Bryant once said,The most important thing is to try and inspire people so that they can be great in whatever they want to do\n"
     ]
    }
   ],
   "source": [
    "quote = \"The most important thing is to try and inspire people so that they can be great in whatever they want to do\"\n",
    "name = \"Kobe Bryant\"\n",
    "\n",
    "print(name+\" once said,\"+quote)"
   ]
  },
  {
   "cell_type": "markdown",
   "id": "a13b5178",
   "metadata": {},
   "source": [
    "####  Q7. Store a person’s name, and include some whitespace characters at the beginning and end of the name . \n",
    "#### Make sure you use each character combination, \"\\t\"  at least once .\n",
    "#### Print the name once, so the whitespace around the name is displayed . \n",
    "#### Then print the name using each of the three stripping functions, lstrip(), rstrip(), and strip()"
   ]
  },
  {
   "cell_type": "code",
   "execution_count": 28,
   "id": "5fe970b6",
   "metadata": {},
   "outputs": [
    {
     "name": "stdout",
     "output_type": "stream",
     "text": [
      "Original name - \t    Mohammed Adnan       \n",
      "Left strip - Mohammed Adnan       \n",
      "Right strip - \t    Mohammed Adnan\n",
      "Strip - Mohammed Adnan\n"
     ]
    }
   ],
   "source": [
    "name = '\\t    Mohammed Adnan       '\n",
    "\n",
    "print(\"Original name -\",name)\n",
    "print(\"Left strip -\",name.lstrip())\n",
    "print(\"Right strip -\",name.rstrip())\n",
    "print(\"Strip -\",name.strip())"
   ]
  },
  {
   "cell_type": "markdown",
   "id": "3b394c97",
   "metadata": {},
   "source": [
    "#### Q8.  Write addition, subtraction, multiplication, and division operations that each result in the number 8 . Be sure to enclose your operations in print statements to see the results . You should create four lines that look \n",
    "#### like this:  print(5 + 3)\n",
    "#### Your output should simply be four lines with the number 8 appearing once on each line "
   ]
  },
  {
   "cell_type": "code",
   "execution_count": 32,
   "id": "2a96e1bb",
   "metadata": {},
   "outputs": [
    {
     "name": "stdout",
     "output_type": "stream",
     "text": [
      "Addition- 8\n",
      "Subtraction- 8\n",
      "Division- 8.0\n",
      "Multiplication- 8\n"
     ]
    }
   ],
   "source": [
    "print(\"Addition-\",4+4)\n",
    "print(\"Subtraction-\",10-2)\n",
    "print(\"Division-\",16/2)\n",
    "print(\"Multiplication-\",2*4)"
   ]
  },
  {
   "cell_type": "markdown",
   "id": "34bc5c7a",
   "metadata": {},
   "source": [
    "#### Q9. Store your favorite number in a variable . Then, using that variable, create a message that reveals your favorite number . Print that message "
   ]
  },
  {
   "cell_type": "code",
   "execution_count": 33,
   "id": "e6c7000f",
   "metadata": {},
   "outputs": [
    {
     "name": "stdout",
     "output_type": "stream",
     "text": [
      "My favourite number is  7\n"
     ]
    }
   ],
   "source": [
    "fav_num = 7\n",
    "print(\"My favourite number is \",fav_num)"
   ]
  },
  {
   "cell_type": "markdown",
   "id": "e9eef53a",
   "metadata": {},
   "source": [
    "#### Q10. Choose two of the programs you’ve written, and add at least one comment to each .\n",
    "#### If you don’t have anything specific to write because your programs are too simple at this point, just add your name and the current date at the top of each program file . \n",
    "#### Then write one sentence describing what the program does "
   ]
  },
  {
   "cell_type": "code",
   "execution_count": 34,
   "id": "d7df5102",
   "metadata": {},
   "outputs": [
    {
     "name": "stdout",
     "output_type": "stream",
     "text": [
      "Good Morning\n"
     ]
    }
   ],
   "source": [
    "message = \"Good Morning\"   # Here we are storing a string value inside the variable message \n",
    "\n",
    "print(message)  # This displays the value that is stored in the variable message"
   ]
  },
  {
   "cell_type": "code",
   "execution_count": 35,
   "id": "3cd498ef",
   "metadata": {},
   "outputs": [
    {
     "name": "stdout",
     "output_type": "stream",
     "text": [
      "Power of number 7 = 49\n"
     ]
    }
   ],
   "source": [
    "num = 7         # Here we are storing a value 7 inside the variable num\n",
    "print('Power of number',num,'=',num**2)  # We are finding the value of 7 to the power 2 with this statement"
   ]
  },
  {
   "cell_type": "code",
   "execution_count": null,
   "id": "38ba06fb",
   "metadata": {},
   "outputs": [],
   "source": []
  }
 ],
 "metadata": {
  "kernelspec": {
   "display_name": "Python 3 (ipykernel)",
   "language": "python",
   "name": "python3"
  },
  "language_info": {
   "codemirror_mode": {
    "name": "ipython",
    "version": 3
   },
   "file_extension": ".py",
   "mimetype": "text/x-python",
   "name": "python",
   "nbconvert_exporter": "python",
   "pygments_lexer": "ipython3",
   "version": "3.11.5"
  }
 },
 "nbformat": 4,
 "nbformat_minor": 5
}
