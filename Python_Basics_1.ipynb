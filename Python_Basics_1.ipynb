{
 "cells": [
  {
   "cell_type": "markdown",
   "id": "f45e0922",
   "metadata": {},
   "source": [
    "## The Begining of Python"
   ]
  },
  {
   "cell_type": "markdown",
   "id": "7d6eeae1",
   "metadata": {},
   "source": [
    "--> print()  \n",
    "--> Variables  \n",
    "--> Strings  \n",
    "--> String Methods  \n",
    "    -> upper    \n",
    "    -> lower    \n",
    "    -> title    \n",
    "--> Concatenation  \n",
    "--> Some extra things  \n",
    "--> Avoiding type errors   \n",
    "--> Stripping extra spaces  \n",
    "--> Numbers  \n",
    "--> Integer  \n",
    "--> Float  "
   ]
  },
  {
   "cell_type": "markdown",
   "id": "1b392299",
   "metadata": {},
   "source": [
    "### print()"
   ]
  },
  {
   "cell_type": "code",
   "execution_count": 2,
   "id": "eaf01036",
   "metadata": {},
   "outputs": [
    {
     "name": "stdout",
     "output_type": "stream",
     "text": [
      "Hello World\n"
     ]
    }
   ],
   "source": [
    "print(\"Hello World\")    # The print() is used to display the output of whatever is written inside of it \n",
    "                        # Displays the text \"Hello World\" as output"
   ]
  },
  {
   "cell_type": "code",
   "execution_count": 3,
   "id": "b8987a2d",
   "metadata": {},
   "outputs": [
    {
     "name": "stdout",
     "output_type": "stream",
     "text": [
      "Good Morning : \n"
     ]
    }
   ],
   "source": [
    "print(\"Good Morning : \") # Displays the text Good Morning : as output"
   ]
  },
  {
   "cell_type": "markdown",
   "id": "cdec0ff9",
   "metadata": {},
   "source": [
    "### Variables"
   ]
  },
  {
   "cell_type": "code",
   "execution_count": 5,
   "id": "bf17a7a7",
   "metadata": {},
   "outputs": [
    {
     "name": "stdout",
     "output_type": "stream",
     "text": [
      "Good Morning \n"
     ]
    }
   ],
   "source": [
    "message = \"Good Morning \" # The string Good Morning is stored inside a variable message \n",
    "print(message)            # prints the string that is stored in the message "
   ]
  },
  {
   "cell_type": "code",
   "execution_count": 6,
   "id": "c7fb311b",
   "metadata": {},
   "outputs": [
    {
     "name": "stdout",
     "output_type": "stream",
     "text": [
      "It's 5 am\n"
     ]
    }
   ],
   "source": [
    "text=\"It's 5 am\" \n",
    "print(text)"
   ]
  },
  {
   "cell_type": "code",
   "execution_count": 7,
   "id": "f0eb7604",
   "metadata": {},
   "outputs": [
    {
     "name": "stdout",
     "output_type": "stream",
     "text": [
      "6\n"
     ]
    }
   ],
   "source": [
    "a = 6      # You can also store integers in the variable\n",
    "print(a) "
   ]
  },
  {
   "cell_type": "code",
   "execution_count": 8,
   "id": "81e4c653",
   "metadata": {},
   "outputs": [
    {
     "name": "stdout",
     "output_type": "stream",
     "text": [
      "7.5\n"
     ]
    }
   ],
   "source": [
    "b = 7.5 # You can also store floats in the variable \n",
    "print(b)"
   ]
  },
  {
   "cell_type": "markdown",
   "id": "d6a8f96c",
   "metadata": {},
   "source": [
    "### Strings"
   ]
  },
  {
   "cell_type": "code",
   "execution_count": 10,
   "id": "719dba7e",
   "metadata": {},
   "outputs": [
    {
     "name": "stdout",
     "output_type": "stream",
     "text": [
      "Hello World\n",
      "Hello World\n",
      " Hello World\n",
      "Welcome to todays class on Python Basics\n"
     ]
    }
   ],
   "source": [
    "# strings are always written in quotation marks - ' ' , \" \", ''' '''\n",
    "\n",
    "message = 'Hello World'\n",
    "message1 = \"Hello World\"\n",
    "message2 = ''' Hello World\n",
    "Welcome to todays class on Python Basics'''    # the ''' '''  are used if your string contains paragraph or are used for multi-line strings \n",
    "\n",
    "print(message)\n",
    "print(message1)\n",
    "print(message2)"
   ]
  },
  {
   "cell_type": "code",
   "execution_count": 11,
   "id": "aa67a49a",
   "metadata": {},
   "outputs": [
    {
     "name": "stdout",
     "output_type": "stream",
     "text": [
      "We are learning \"Python\" \n",
      "I live in 'India' \n"
     ]
    }
   ],
   "source": [
    "message = 'We are learning \"Python\" '  # In a single quote string if you want to specify quotes to a word then you need to use \" \"\n",
    "message1 = \"I live in 'India' \"   # In a double quote string if you want to specify quotes to a word then you need to use ' '\n",
    "\n",
    "print(message)\n",
    "print(message1)"
   ]
  },
  {
   "cell_type": "markdown",
   "id": "9f4fdc34",
   "metadata": {},
   "source": [
    "### String methods "
   ]
  },
  {
   "cell_type": "markdown",
   "id": "426dd5ab",
   "metadata": {},
   "source": [
    "### upper()"
   ]
  },
  {
   "cell_type": "code",
   "execution_count": 13,
   "id": "e12a82f9",
   "metadata": {},
   "outputs": [
    {
     "name": "stdout",
     "output_type": "stream",
     "text": [
      "HELLO GUYS, WHAT DAY IS IT TODAY?\n"
     ]
    }
   ],
   "source": [
    "message = \"Hello guys, what day is it today?\"\n",
    "print(message.upper())  # The upper() basically converts each letter in a string to uppercase"
   ]
  },
  {
   "cell_type": "markdown",
   "id": "95808a43",
   "metadata": {},
   "source": [
    "### lower()"
   ]
  },
  {
   "cell_type": "code",
   "execution_count": 14,
   "id": "43dc2b4d",
   "metadata": {},
   "outputs": [
    {
     "name": "stdout",
     "output_type": "stream",
     "text": [
      "well guys, do you think python is easy ?? \n"
     ]
    }
   ],
   "source": [
    "message1 = \"Well Guys, DO YOU THINK PYTHON iS easy ?? \"\n",
    "print(message1.lower()) # The lower() basically converts each letter in a string to lowercase"
   ]
  },
  {
   "cell_type": "markdown",
   "id": "e8ee2e5c",
   "metadata": {},
   "source": [
    "### title()"
   ]
  },
  {
   "cell_type": "code",
   "execution_count": 19,
   "id": "790bca2c",
   "metadata": {},
   "outputs": [
    {
     "name": "stdout",
     "output_type": "stream",
     "text": [
      "Good Night Fellas, It Is 2Am And I Am Learning Coding \n"
     ]
    }
   ],
   "source": [
    "message2 =\"good nigHT fellas, It is 2am aNd I am leaRNing coding \"\n",
    "print(message2.title())  # The title() basically converts the first letter of every word to uppercase and the remaining letters of the word to lowercase"
   ]
  },
  {
   "cell_type": "markdown",
   "id": "b769c827",
   "metadata": {},
   "source": [
    "### Concatination"
   ]
  },
  {
   "cell_type": "code",
   "execution_count": 23,
   "id": "8e89ce25",
   "metadata": {},
   "outputs": [
    {
     "name": "stdout",
     "output_type": "stream",
     "text": [
      "Hello guys, what day is it today? Well Guys, DO YOU THINK PYTHON iS easy ?? \n"
     ]
    }
   ],
   "source": [
    "print(message +' '+message1)  # The '+' is used to combine two or more strings "
   ]
  },
  {
   "cell_type": "code",
   "execution_count": 26,
   "id": "d4729cdd",
   "metadata": {},
   "outputs": [
    {
     "name": "stdout",
     "output_type": "stream",
     "text": [
      "Good Morning Fellas !! I am Mohammed Adnan. Today is Monday :(\n"
     ]
    }
   ],
   "source": [
    "old_string1 = \"Good Morning Fellas !! \"\n",
    "old_string2 = \"I am Mohammed Adnan. \"\n",
    "old_string3 = \"Today is Monday :(\"\n",
    "\n",
    "new_string = old_string1 + old_string2 + old_string3\n",
    "\n",
    "print(new_string)"
   ]
  },
  {
   "cell_type": "code",
   "execution_count": 28,
   "id": "9b676687",
   "metadata": {},
   "outputs": [
    {
     "name": "stdout",
     "output_type": "stream",
     "text": [
      "Mohammed Adnan\n",
      "MOHAMMED ADNAN\n"
     ]
    }
   ],
   "source": [
    "# You can even combine methods and concatination \n",
    "\n",
    "first_name = 'mohammed'\n",
    "last_name = 'Adnan'\n",
    "\n",
    "print(first_name.title() +\" \"+ last_name)\n",
    "print(first_name.upper()+\" \"+ last_name.upper())"
   ]
  },
  {
   "cell_type": "markdown",
   "id": "646cbec0",
   "metadata": {},
   "source": [
    "### Some extra things "
   ]
  },
  {
   "cell_type": "code",
   "execution_count": 30,
   "id": "ade6591f",
   "metadata": {},
   "outputs": [
    {
     "name": "stdout",
     "output_type": "stream",
     "text": [
      "Hello I am your python trainer\n",
      "Hello \n",
      " \tI am your python trainer !\n"
     ]
    }
   ],
   "source": [
    "# '\\n'  --> Shifts to a new line\n",
    "# '\\t'  --> Adds white spaces to the line\n",
    "\n",
    "print(\"Hello I am your python trainer\")        # Code without using \\n and \\t\n",
    "print(\"Hello \\n \\tI am your python trainer !\") # Code while using \\n and \\t\n",
    "                                                # So in this code after Hello, it moves to the new line because of \\n \n",
    "                                                # then there are some white spaces added due to \\t \n"
   ]
  },
  {
   "cell_type": "code",
   "execution_count": 34,
   "id": "e98017ef",
   "metadata": {},
   "outputs": [
    {
     "name": "stdout",
     "output_type": "stream",
     "text": [
      "It's a beautiful day\n"
     ]
    }
   ],
   "source": [
    "message = \"It's a beautiful day\" # Here when I am using an apostrophe it contains a single quote, therefore the string should be enclosed in double quotes \n",
    "print(message)"
   ]
  },
  {
   "cell_type": "markdown",
   "id": "6100c9b1",
   "metadata": {},
   "source": [
    "### Avoiding Type Errors "
   ]
  },
  {
   "cell_type": "code",
   "execution_count": 47,
   "id": "5fa3bb0f",
   "metadata": {},
   "outputs": [
    {
     "ename": "TypeError",
     "evalue": "can only concatenate str (not \"int\") to str",
     "output_type": "error",
     "traceback": [
      "\u001b[1;31m---------------------------------------------------------------------------\u001b[0m",
      "\u001b[1;31mTypeError\u001b[0m                                 Traceback (most recent call last)",
      "Cell \u001b[1;32mIn[47], line 2\u001b[0m\n\u001b[0;32m      1\u001b[0m age \u001b[38;5;241m=\u001b[39m \u001b[38;5;241m22\u001b[39m\n\u001b[1;32m----> 2\u001b[0m \u001b[38;5;28mprint\u001b[39m(\u001b[38;5;124m\"\u001b[39m\u001b[38;5;124mHello, I am \u001b[39m\u001b[38;5;124m\"\u001b[39m\u001b[38;5;241m+\u001b[39m age\u001b[38;5;241m+\u001b[39m \u001b[38;5;124m\"\u001b[39m\u001b[38;5;124m Years old\u001b[39m\u001b[38;5;124m\"\u001b[39m)\n",
      "\u001b[1;31mTypeError\u001b[0m: can only concatenate str (not \"int\") to str"
     ]
    }
   ],
   "source": [
    "age = 22\n",
    "# print(\"Hello, I am \"+ age+ \" Years old\")  this will generate an error because the age is an interger and not a string "
   ]
  },
  {
   "cell_type": "code",
   "execution_count": 48,
   "id": "dec49138",
   "metadata": {},
   "outputs": [
    {
     "name": "stdout",
     "output_type": "stream",
     "text": [
      "Hello, I am 22years old !\n"
     ]
    }
   ],
   "source": [
    "# So to solve this we use -- str() --> this converts an integer or float value to string \n",
    "\n",
    "print(\"Hello, I am \"+ str(age)+ \"years old !\")"
   ]
  },
  {
   "cell_type": "code",
   "execution_count": 49,
   "id": "9a30090a",
   "metadata": {},
   "outputs": [
    {
     "name": "stdout",
     "output_type": "stream",
     "text": [
      "Hello, I am  22 years old !\n"
     ]
    }
   ],
   "source": [
    "print(\"Hello, I am \",age, \"years old !\") # This is another way of doing it so here the ',' automatically converts the int to string"
   ]
  },
  {
   "cell_type": "markdown",
   "id": "ab9d9d07",
   "metadata": {},
   "source": [
    "### stripping extra spaces "
   ]
  },
  {
   "cell_type": "code",
   "execution_count": 33,
   "id": "0297a54c",
   "metadata": {},
   "outputs": [
    {
     "name": "stdout",
     "output_type": "stream",
     "text": [
      "Original:    GOOD MORNING !! \n",
      "\n",
      "striped: GOOD MORNING !!\n",
      "\n",
      "Original:    GOOD MORNING !! \n",
      "\n",
      "striped: GOOD MORNING !!\n",
      "\n",
      "Original:    GOOD MORNING !! \n",
      "\n",
      "striped: GOOD MORNING !!\n"
     ]
    }
   ],
   "source": [
    "message = '   GOOD MORNING !!' \n",
    "message1 = \"GOOD MORNING !!       \"\n",
    "message2 = \"            GOOD MORNING !!            \"\n",
    "print(\"Original:\",message,'\\n')\n",
    "print(\"striped:\",message.lstrip()) # lstrip  --> removes the white blank spaces present on the left side\n",
    "\n",
    "print(\"\\nOriginal:\",message,'\\n')\n",
    "print(\"striped:\",message1.rstrip()) # rstrip --> removes the white blank spaces present on the right side \n",
    "\n",
    "print(\"\\nOriginal:\",message,'\\n')\n",
    "print(\"striped:\",message2.strip()) # strip --> removes the white blank spaces present from both the sides "
   ]
  },
  {
   "cell_type": "markdown",
   "id": "2275909f",
   "metadata": {},
   "source": [
    "### Numbers"
   ]
  },
  {
   "cell_type": "code",
   "execution_count": 35,
   "id": "4b78eed5",
   "metadata": {},
   "outputs": [
    {
     "name": "stdout",
     "output_type": "stream",
     "text": [
      "10\n"
     ]
    }
   ],
   "source": [
    "a = 10 \n",
    "print(a)"
   ]
  },
  {
   "cell_type": "code",
   "execution_count": 36,
   "id": "35477759",
   "metadata": {},
   "outputs": [
    {
     "name": "stdout",
     "output_type": "stream",
     "text": [
      "5\n"
     ]
    }
   ],
   "source": [
    "# Here both the numbers are integers \n",
    "\n",
    "a = 2   \n",
    "b = 3 \n",
    "print(a+b) # The result we get is an integer"
   ]
  },
  {
   "cell_type": "code",
   "execution_count": 37,
   "id": "ed0973b4",
   "metadata": {},
   "outputs": [
    {
     "name": "stdout",
     "output_type": "stream",
     "text": [
      "120.3\n"
     ]
    }
   ],
   "source": [
    "# Here both the numbers are float \n",
    "# float is a decimal value\n",
    "\n",
    "a = 20.2\n",
    "b = 100.1\n",
    "print(a+b) # The result we get is a float "
   ]
  },
  {
   "cell_type": "code",
   "execution_count": 38,
   "id": "f7078a61",
   "metadata": {},
   "outputs": [
    {
     "name": "stdout",
     "output_type": "stream",
     "text": [
      "120.2\n"
     ]
    }
   ],
   "source": [
    "# One number is an integer and one is a float\n",
    "a = 20.2\n",
    "b = 100\n",
    "print(a+b) # The result will be a float "
   ]
  },
  {
   "cell_type": "markdown",
   "id": "16bf9e57",
   "metadata": {},
   "source": [
    "### Integers"
   ]
  },
  {
   "cell_type": "code",
   "execution_count": 41,
   "id": "6aa7509a",
   "metadata": {},
   "outputs": [],
   "source": [
    "a = 100\n",
    "b = 2"
   ]
  },
  {
   "cell_type": "code",
   "execution_count": 44,
   "id": "953331f3",
   "metadata": {},
   "outputs": [
    {
     "name": "stdout",
     "output_type": "stream",
     "text": [
      "15.2\n",
      "5.199999999999999\n",
      "51.0\n",
      "2.04\n",
      "0.1999999999999993\n",
      "110408.08031999996\n",
      "79.03999999999999\n"
     ]
    }
   ],
   "source": [
    "print(a+b) # Addition \n",
    "print(a-b) # Subtraction\n",
    "print(a*b) # Multiplication\n",
    "print(a/b) # Division [Provides Quotient]\n",
    "print(a%b) # Mod [Provides the remainder]\n",
    "print(a**b) # Power [a -> base, b -> power of]\n",
    "print((a+b)*(a-b)) # Expression which works using BODMAS Rules "
   ]
  },
  {
   "cell_type": "markdown",
   "id": "dc935222",
   "metadata": {},
   "source": [
    "### Float "
   ]
  },
  {
   "cell_type": "code",
   "execution_count": 43,
   "id": "0dec9158",
   "metadata": {},
   "outputs": [],
   "source": [
    "a = 10.2\n",
    "b = 5.0"
   ]
  },
  {
   "cell_type": "code",
   "execution_count": 45,
   "id": "0ac34d48",
   "metadata": {},
   "outputs": [
    {
     "name": "stdout",
     "output_type": "stream",
     "text": [
      "15.2\n",
      "5.199999999999999\n",
      "51.0\n",
      "2.04\n",
      "0.1999999999999993\n",
      "110408.08031999996\n",
      "79.03999999999999\n"
     ]
    }
   ],
   "source": [
    "print(a+b) # Addition \n",
    "print(a-b) # Subtraction\n",
    "print(a*b) # Multiplication\n",
    "print(a/b) # Division [Provides Quotient]\n",
    "print(a%b) # Mod [Provides the remainder]\n",
    "print(a**b) # Power [a -> base, b -> power of]\n",
    "print((a+b)*(a-b)) # Expression which works using BODMAS Rules "
   ]
  },
  {
   "cell_type": "code",
   "execution_count": null,
   "id": "acb605c0",
   "metadata": {},
   "outputs": [],
   "source": []
  }
 ],
 "metadata": {
  "kernelspec": {
   "display_name": "Python 3 (ipykernel)",
   "language": "python",
   "name": "python3"
  },
  "language_info": {
   "codemirror_mode": {
    "name": "ipython",
    "version": 3
   },
   "file_extension": ".py",
   "mimetype": "text/x-python",
   "name": "python",
   "nbconvert_exporter": "python",
   "pygments_lexer": "ipython3",
   "version": "3.11.5"
  }
 },
 "nbformat": 4,
 "nbformat_minor": 5
}
