{
 "cells": [
  {
   "cell_type": "markdown",
   "id": "18fec09c",
   "metadata": {},
   "source": [
    "### Lesson 2"
   ]
  },
  {
   "cell_type": "markdown",
   "id": "6dbf08b9",
   "metadata": {},
   "source": [
    "--> List  \n",
    "--> Accessing Elements in a List  \n",
    "--> Modifying Elements in a List  \n",
    "--> Adding Elements to a List  \n",
    "--> Inserting Elements into a List  \n",
    "--> Removing Elements from Lists  \n",
    "--> Sorting a List  \n",
    "--> Printing a List in Reverse Order  \n",
    "--> Length of the List  \n",
    "--> Reverse Indexing\n",
    "--> Using For Loops On List  \n",
    "--> After a for loop  \n",
    "--> range() Function    \n",
    "--> Making List of Numbers  \n",
    "--> Simple Statistics with List of Number  \n",
    "--> Slicing in a List  \n",
    "--> Using for loops with Slicing  \n",
    "--> Copying list  "
   ]
  },
  {
   "cell_type": "markdown",
   "id": "1d9134bd",
   "metadata": {},
   "source": [
    "### List"
   ]
  },
  {
   "cell_type": "code",
   "execution_count": 3,
   "id": "9c9ef779",
   "metadata": {},
   "outputs": [
    {
     "data": {
      "text/plain": [
       "[1, 2, 3.3, 4.4]"
      ]
     },
     "execution_count": 3,
     "metadata": {},
     "output_type": "execute_result"
    }
   ],
   "source": [
    "numbers = [1, 2, 3.3, 4.4] # List are enclosed in [] brackets\n",
    "                           # List can contain combination of int, float and string together\n",
    "numbers"
   ]
  },
  {
   "cell_type": "code",
   "execution_count": 4,
   "id": "7ebcc80a",
   "metadata": {},
   "outputs": [
    {
     "data": {
      "text/plain": [
       "['BMW', 'Mustang', 'Lamborghini']"
      ]
     },
     "execution_count": 4,
     "metadata": {},
     "output_type": "execute_result"
    }
   ],
   "source": [
    "cars = ['BMW','Mustang','Lamborghini']\n",
    "cars"
   ]
  },
  {
   "cell_type": "code",
   "execution_count": 8,
   "id": "4873053f",
   "metadata": {},
   "outputs": [
    {
     "data": {
      "text/plain": [
       "['BMW', 'mustang', 'Lamborghini', 1, 3.14, 'Toyota Supra']"
      ]
     },
     "execution_count": 8,
     "metadata": {},
     "output_type": "execute_result"
    }
   ],
   "source": [
    "list_items = ['BMW','mustang','Lamborghini',1 , 3.14,'Toyota Supra']  \n",
    "list_items"
   ]
  },
  {
   "cell_type": "markdown",
   "id": "4a32037b",
   "metadata": {},
   "source": [
    "### Accessing elements in a list "
   ]
  },
  {
   "cell_type": "code",
   "execution_count": 5,
   "id": "2cd511be",
   "metadata": {},
   "outputs": [
    {
     "data": {
      "text/plain": [
       "'BMW'"
      ]
     },
     "execution_count": 5,
     "metadata": {},
     "output_type": "execute_result"
    }
   ],
   "source": [
    "# This is called as indexing \n",
    "list_items[0]  # This gives the  element present at the 0th position of list_items\n",
    "               "
   ]
  },
  {
   "cell_type": "code",
   "execution_count": 9,
   "id": "519384f1",
   "metadata": {},
   "outputs": [
    {
     "data": {
      "text/plain": [
       "'mustang'"
      ]
     },
     "execution_count": 9,
     "metadata": {},
     "output_type": "execute_result"
    }
   ],
   "source": [
    "list_items[1] # This gives the element present at the 1st index of list_items"
   ]
  },
  {
   "cell_type": "code",
   "execution_count": 7,
   "id": "2cedeb9a",
   "metadata": {},
   "outputs": [
    {
     "data": {
      "text/plain": [
       "3.14"
      ]
     },
     "execution_count": 7,
     "metadata": {},
     "output_type": "execute_result"
    }
   ],
   "source": [
    "list_items[4]  # this gives the element present at the 4th index of list_items"
   ]
  },
  {
   "cell_type": "code",
   "execution_count": 11,
   "id": "a139ad3e",
   "metadata": {},
   "outputs": [
    {
     "name": "stdout",
     "output_type": "stream",
     "text": [
      "Mustang\n"
     ]
    }
   ],
   "source": [
    "print(list_items[1].title()) # Gives the element present at the first index of list_items and also capitalizes the first letter of the word due to the title()"
   ]
  },
  {
   "cell_type": "code",
   "execution_count": 12,
   "id": "55104437",
   "metadata": {},
   "outputs": [
    {
     "name": "stdout",
     "output_type": "stream",
     "text": [
      "I own a Mustang\n"
     ]
    }
   ],
   "source": [
    "# we can access one element from a list and combine it in a sentence \n",
    "\n",
    "message = \"I own a \" + list_items[1].title()  # We are combining a sentence and an element present at first index of the list_items  \n",
    "print(message)"
   ]
  },
  {
   "cell_type": "code",
   "execution_count": 13,
   "id": "8333350e",
   "metadata": {},
   "outputs": [
    {
     "name": "stdout",
     "output_type": "stream",
     "text": [
      "I own a  Mustang\n"
     ]
    }
   ],
   "source": [
    "# you can even do this \n",
    "\n",
    "print(\"I own a \",list_items[1].title()) # We are combining a sentence and an element present at first index of the list_items  "
   ]
  },
  {
   "cell_type": "markdown",
   "id": "9ee8922b",
   "metadata": {},
   "source": [
    "### Modifying Elements in list "
   ]
  },
  {
   "cell_type": "code",
   "execution_count": 14,
   "id": "e3f189a4",
   "metadata": {},
   "outputs": [
    {
     "name": "stdout",
     "output_type": "stream",
     "text": [
      "['BMW', 'mustang', 'Lamborghini', 1, 3.14, 'Toyota Supra']\n"
     ]
    }
   ],
   "source": [
    "print(list_items)"
   ]
  },
  {
   "cell_type": "code",
   "execution_count": 15,
   "id": "aa171d69",
   "metadata": {},
   "outputs": [
    {
     "name": "stdout",
     "output_type": "stream",
     "text": [
      "['BMW', 'mustang', 'Lamborghini', 'Ferrari', 3.14, 'Toyota Supra']\n"
     ]
    }
   ],
   "source": [
    "list_items[3] = 'Ferrari'\n",
    "print(list_items)"
   ]
  },
  {
   "cell_type": "code",
   "execution_count": 16,
   "id": "11b93d77",
   "metadata": {},
   "outputs": [
    {
     "name": "stdout",
     "output_type": "stream",
     "text": [
      "['BMW', 'mustang', 'Lamborghini', 'Ferrari', 3.14, 1000]\n"
     ]
    }
   ],
   "source": [
    "list_items[5] = 1000\n",
    "print(list_items)"
   ]
  },
  {
   "cell_type": "markdown",
   "id": "794399cf",
   "metadata": {},
   "source": [
    "### Adding elements to a list"
   ]
  },
  {
   "cell_type": "code",
   "execution_count": 18,
   "id": "8c4daad8",
   "metadata": {},
   "outputs": [
    {
     "name": "stdout",
     "output_type": "stream",
     "text": [
      "['BMW', 'mustang', 'Lamborghini', 'Ferrari', 3.14, 1000]\n",
      "['BMW', 'mustang', 'Lamborghini', 'Ferrari', 3.14, 1000, 'Dodge Charger']\n"
     ]
    }
   ],
   "source": [
    "# append() --> adds new element at the end of the list \n",
    "\n",
    "print(list_items)\n",
    "list_items.append(\"Dodge Charger\")\n",
    "print(list_items)"
   ]
  },
  {
   "cell_type": "code",
   "execution_count": 19,
   "id": "c35ce6e9",
   "metadata": {},
   "outputs": [
    {
     "name": "stdout",
     "output_type": "stream",
     "text": [
      "['BMW', 'mustang', 'Lamborghini', 'Ferrari', 3.14, 1000, 'Dodge Charger']\n",
      "['BMW', 'mustang', 'Lamborghini', 'Ferrari', 3.14, 1000, 'Dodge Charger', 1000]\n"
     ]
    }
   ],
   "source": [
    "print(list_items)  \n",
    "list_items.append(1000)\n",
    "print(list_items) \n",
    "# Note : List can contain duplicates "
   ]
  },
  {
   "cell_type": "code",
   "execution_count": 20,
   "id": "11aefeb3",
   "metadata": {},
   "outputs": [
    {
     "name": "stdout",
     "output_type": "stream",
     "text": [
      "[]\n",
      "['Data Structures and Algorithms', 'Data Base Management Systems', 'Operating Systems', 'Computer Networks']\n"
     ]
    }
   ],
   "source": [
    "Subjects = []   # This is an empty list\n",
    "\n",
    "print(Subjects)\n",
    "Subjects.append(\"Data Structures and Algorithms\")\n",
    "Subjects.append(\"Data Base Management Systems\")\n",
    "Subjects.append(\"Operating Systems\")\n",
    "Subjects.append(\"Computer Networks\")\n",
    "print(Subjects)"
   ]
  },
  {
   "cell_type": "markdown",
   "id": "93203c7b",
   "metadata": {},
   "source": [
    "### Inserting elements into a list"
   ]
  },
  {
   "cell_type": "code",
   "execution_count": 22,
   "id": "d4320978",
   "metadata": {},
   "outputs": [
    {
     "name": "stdout",
     "output_type": "stream",
     "text": [
      "['Data Structures and Algorithms', 'Data Base Management Systems', 'Design Analysis and Algorithms', 'Operating Systems', 'Computer Networks']\n",
      "['Data Structures and Algorithms', 'Data Base Management Systems', 'Design Analysis and Algorithms', 'Design Analysis and Algorithms', 'Operating Systems', 'Computer Networks']\n"
     ]
    }
   ],
   "source": [
    "# insert(index_number, value)  ->  Using the insert() we can place the value at a specific position rather than adding the value to the end of the list\n",
    "\n",
    "print(Subjects)\n",
    "Subjects.insert(2,\"Design Analysis and Algorithms\")  # We are adding Design Analysis and Algorithms to the 2nd index of the list Subjects\n",
    "print(Subjects)"
   ]
  },
  {
   "cell_type": "code",
   "execution_count": 24,
   "id": "b9e0e545",
   "metadata": {},
   "outputs": [
    {
     "name": "stdout",
     "output_type": "stream",
     "text": [
      "['BMW', 'mustang', 'Lamborghini', 'Ferrari', 3.14, 1000, 'Dodge Charger', 1000]\n",
      "['1', 'BMW', 'mustang', 'Lamborghini', 'Ferrari', 3.14, 1000, 'Dodge Charger', 1000]\n"
     ]
    }
   ],
   "source": [
    "\n",
    "print(list_items)\n",
    "list_items.insert(0,\"1\") # Here we are inserting an element in the 0th index of list_items --> and 1 here is a string not an integer\n",
    "print(list_items)\n"
   ]
  },
  {
   "cell_type": "markdown",
   "id": "17e39807",
   "metadata": {},
   "source": [
    "### Removing elements from lists"
   ]
  },
  {
   "cell_type": "code",
   "execution_count": 25,
   "id": "12e5980a",
   "metadata": {},
   "outputs": [
    {
     "name": "stdout",
     "output_type": "stream",
     "text": [
      "['1', 'BMW', 'mustang', 'Lamborghini', 'Ferrari', 3.14, 1000, 'Dodge Charger', 1000]\n",
      "['1', 'BMW', 'Lamborghini', 'Ferrari', 3.14, 1000, 'Dodge Charger', 1000]\n"
     ]
    }
   ],
   "source": [
    "# del --> using the del keyword you can remove any item from a list if you know its position \n",
    "\n",
    "print(list_items)\n",
    "del list_items[2] # deletes the value of mustang\n",
    "print(list_items)"
   ]
  },
  {
   "cell_type": "code",
   "execution_count": 26,
   "id": "e7f101f4",
   "metadata": {},
   "outputs": [
    {
     "name": "stdout",
     "output_type": "stream",
     "text": [
      "['1', 'BMW', 'Lamborghini', 'Ferrari', 3.14, 1000, 'Dodge Charger', 1000]\n",
      "['1', 'BMW', 'Lamborghini', 'Ferrari', 3.14, 'Dodge Charger', 1000]\n"
     ]
    }
   ],
   "source": [
    "print(list_items)\n",
    "del list_items[5] # deletes the value of 1000 that is present in the 5th value\n",
    "print(list_items)"
   ]
  },
  {
   "cell_type": "code",
   "execution_count": 29,
   "id": "1563ff93",
   "metadata": {},
   "outputs": [
    {
     "name": "stdout",
     "output_type": "stream",
     "text": [
      "['Data Structures and Algorithms', 'Data Base Management Systems', 'Design Analysis and Algorithms', 'Design Analysis and Algorithms', 'Operating Systems']\n",
      "['Data Structures and Algorithms', 'Data Base Management Systems', 'Design Analysis and Algorithms', 'Design Analysis and Algorithms']\n"
     ]
    }
   ],
   "source": [
    "# pop() --> By using this method we are able to remove the last element of a list. Moreover, the item that is popped out from the list can be used again \n",
    "\n",
    "print(Subjects)\n",
    "Subjects.pop()\n",
    "print(Subjects)"
   ]
  },
  {
   "cell_type": "code",
   "execution_count": 30,
   "id": "598d0c41",
   "metadata": {},
   "outputs": [
    {
     "name": "stdout",
     "output_type": "stream",
     "text": [
      "['Data Structures and Algorithms', 'Data Base Management Systems', 'Design Analysis and Algorithms', 'Design Analysis and Algorithms']\n",
      "['Data Structures and Algorithms', 'Data Base Management Systems', 'Design Analysis and Algorithms']\n",
      "Design Analysis and Algorithms\n"
     ]
    }
   ],
   "source": [
    "print(Subjects)\n",
    "popped_sub = Subjects.pop()\n",
    "print(Subjects)\n",
    "print(popped_sub)"
   ]
  },
  {
   "cell_type": "code",
   "execution_count": 32,
   "id": "e90e1280",
   "metadata": {},
   "outputs": [
    {
     "name": "stdout",
     "output_type": "stream",
     "text": [
      "I received 'A' Grade in  Design Analysis and Algorithms\n"
     ]
    }
   ],
   "source": [
    "print(\"I received 'A' Grade in \",popped_sub)"
   ]
  },
  {
   "cell_type": "code",
   "execution_count": 34,
   "id": "05e90366",
   "metadata": {},
   "outputs": [
    {
     "name": "stdout",
     "output_type": "stream",
     "text": [
      "['1', 'BMW', 'Lamborghini', 'Ferrari', 3.14, 'Dodge Charger', 1000]\n",
      "1\n",
      "['BMW', 'Lamborghini', 'Ferrari', 3.14, 'Dodge Charger', 1000]\n"
     ]
    }
   ],
   "source": [
    "# We can also use index numbers to remove an item using pop\n",
    "\n",
    "print(list_items)\n",
    "print(list_items.pop(0)) # Removes the element present at 0th index \n",
    "print(list_items)"
   ]
  },
  {
   "cell_type": "code",
   "execution_count": 38,
   "id": "93b49377",
   "metadata": {},
   "outputs": [
    {
     "name": "stdout",
     "output_type": "stream",
     "text": [
      "['BMW', 'Lamborghini', 'Ferrari', 3.14, 'Dodge Charger']\n",
      "['Lamborghini', 'Ferrari', 3.14, 'Dodge Charger']\n"
     ]
    }
   ],
   "source": [
    "# remove() --> If you do not know the index of an element in the list but you know the name, then by using the remove() you can remove that element\n",
    "\n",
    "print(list_items)\n",
    "list_items.remove('BMW')  # removes BMW from the list\n",
    "print(list_items)"
   ]
  },
  {
   "cell_type": "code",
   "execution_count": 42,
   "id": "ebb35edf",
   "metadata": {},
   "outputs": [
    {
     "name": "stdout",
     "output_type": "stream",
     "text": [
      "['BMW', 'Mustang', 'Lamborghini', 'Ford Mustang', 'Fortuner', 'Buggati', 'Ferrari', 'Ferrari']\n",
      "['BMW', 'Mustang', 'Lamborghini', 'Ford Mustang', 'Fortuner', 'Buggati', 'Ferrari']\n"
     ]
    }
   ],
   "source": [
    "too_expensive = 'Ferrari'\n",
    "print(cars)\n",
    "cars.remove(too_expensive)\n",
    "print(cars)"
   ]
  },
  {
   "cell_type": "markdown",
   "id": "e3384e85",
   "metadata": {},
   "source": [
    "### Sorting a list "
   ]
  },
  {
   "cell_type": "code",
   "execution_count": 43,
   "id": "f73d11f9",
   "metadata": {},
   "outputs": [
    {
     "name": "stdout",
     "output_type": "stream",
     "text": [
      "['BMW', 'Mustang', 'Lamborghini', 'Ford Mustang', 'Fortuner', 'Buggati', 'Ferrari']\n",
      "['BMW', 'Buggati', 'Ferrari', 'Ford Mustang', 'Fortuner', 'Lamborghini', 'Mustang']\n"
     ]
    }
   ],
   "source": [
    "# sort() --> The sort() arranges the list in ascending order --> The order of the list is permenantly changed\n",
    "print(cars)\n",
    "cars.sort()\n",
    "print(cars)"
   ]
  },
  {
   "cell_type": "code",
   "execution_count": 49,
   "id": "21aa44bf",
   "metadata": {},
   "outputs": [
    {
     "name": "stdout",
     "output_type": "stream",
     "text": [
      "['Lamborghini', 'Ferrari', '3.14', 'Dodge Charger']\n",
      "['3.14', 'Dodge Charger', 'Ferrari', 'Lamborghini']\n",
      "['Lamborghini', 'Ferrari', '3.14', 'Dodge Charger']\n"
     ]
    }
   ],
   "source": [
    "# sorted() --> The sorted() arranges the list in ascending order --> The order of the list is temporarily changed \n",
    "# sorted() does not work on hetrogenous data \n",
    "\n",
    "print(list_items) # original list \n",
    "print(sorted(list_items)) # sorted list\n",
    "print(list_items) # original list"
   ]
  },
  {
   "cell_type": "markdown",
   "id": "f41401e8",
   "metadata": {},
   "source": [
    "### Printing a list in reverse order"
   ]
  },
  {
   "cell_type": "code",
   "execution_count": 53,
   "id": "ef34c6e6",
   "metadata": {},
   "outputs": [
    {
     "name": "stdout",
     "output_type": "stream",
     "text": [
      "['BMW', 'Buggati', 'Ferrari', 'Ford Mustang', 'Fortuner', 'Lamborghini', 'Mustang']\n",
      "['Mustang', 'Lamborghini', 'Fortuner', 'Ford Mustang', 'Ferrari', 'Buggati', 'BMW']\n"
     ]
    }
   ],
   "source": [
    "print(cars) # This prints the original order of the list \n",
    "cars.reverse() # This reverses the order of the list [descending order], it permenantly changes the order of the list \n",
    "print(cars) "
   ]
  },
  {
   "cell_type": "code",
   "execution_count": 55,
   "id": "c63fdfca",
   "metadata": {},
   "outputs": [
    {
     "name": "stdout",
     "output_type": "stream",
     "text": [
      "['Lamborghini', 'Ferrari', '3.14', 'Dodge Charger']\n",
      "['Dodge Charger', '3.14', 'Ferrari', 'Lamborghini']\n"
     ]
    }
   ],
   "source": [
    "print(list_items)\n",
    "list_items.reverse()\n",
    "print(list_items)"
   ]
  },
  {
   "cell_type": "markdown",
   "id": "65832697",
   "metadata": {},
   "source": [
    "### Length of the list"
   ]
  },
  {
   "cell_type": "code",
   "execution_count": 56,
   "id": "fff62d59",
   "metadata": {},
   "outputs": [
    {
     "name": "stdout",
     "output_type": "stream",
     "text": [
      "['Mustang', 'Lamborghini', 'Fortuner', 'Ford Mustang', 'Ferrari', 'Buggati', 'BMW']\n",
      "7\n"
     ]
    }
   ],
   "source": [
    "# len() --> gives the length of the list --> total number of elements present \n",
    "print(cars)\n",
    "print(len(cars))"
   ]
  },
  {
   "cell_type": "code",
   "execution_count": 57,
   "id": "febee0f7",
   "metadata": {},
   "outputs": [
    {
     "name": "stdout",
     "output_type": "stream",
     "text": [
      "['Dodge Charger', '3.14', 'Ferrari', 'Lamborghini']\n",
      "4\n"
     ]
    }
   ],
   "source": [
    "print(list_items)     # ['Dodge Charger', '3.14', 'Ferrari', 'Lamborghini']\n",
    "print(len(list_items))#       1             2         3           4"
   ]
  },
  {
   "cell_type": "markdown",
   "id": "8ba01552",
   "metadata": {},
   "source": [
    "### Reverse Indexing "
   ]
  },
  {
   "cell_type": "code",
   "execution_count": 58,
   "id": "0979b288",
   "metadata": {},
   "outputs": [
    {
     "name": "stdout",
     "output_type": "stream",
     "text": [
      "['Mustang', 'Lamborghini', 'Fortuner', 'Ford Mustang', 'Ferrari', 'Buggati', 'BMW']\n"
     ]
    }
   ],
   "source": [
    "print(cars)"
   ]
  },
  {
   "cell_type": "code",
   "execution_count": 59,
   "id": "20d7d0e8",
   "metadata": {},
   "outputs": [
    {
     "name": "stdout",
     "output_type": "stream",
     "text": [
      "BMW\n",
      "Ferrari\n"
     ]
    }
   ],
   "source": [
    "print(cars[-1]) # This gives the value of the last element present in the list of cars [BMW]\n",
    "\n",
    "print(cars[-3]) # This gives the value of the 3rd last element present in the list of cars [Ferrari]"
   ]
  },
  {
   "cell_type": "code",
   "execution_count": 60,
   "id": "c70d6605",
   "metadata": {},
   "outputs": [
    {
     "name": "stdout",
     "output_type": "stream",
     "text": [
      "['Dodge Charger', '3.14', 'Ferrari', 'Lamborghini']\n"
     ]
    }
   ],
   "source": [
    "print(list_items)"
   ]
  },
  {
   "cell_type": "code",
   "execution_count": 61,
   "id": "0c8e9813",
   "metadata": {},
   "outputs": [
    {
     "name": "stdout",
     "output_type": "stream",
     "text": [
      "Ferrari\n"
     ]
    }
   ],
   "source": [
    "print(list_items[-2]) # this gives the element 2nd last element [Ferrari]"
   ]
  },
  {
   "cell_type": "markdown",
   "id": "9c87032e",
   "metadata": {},
   "source": [
    "### Using For Loops On List "
   ]
  },
  {
   "cell_type": "code",
   "execution_count": 62,
   "id": "1d6926e7",
   "metadata": {},
   "outputs": [
    {
     "name": "stdout",
     "output_type": "stream",
     "text": [
      "Ronaldo\n",
      "Kaka\n",
      "Benzema\n",
      "Ramos\n",
      "Pepe\n",
      "Casillas\n"
     ]
    }
   ],
   "source": [
    "football_stars = ['Ronaldo','Kaka','Benzema','Ramos','Pepe','Casillas']  # this is the list of football_stars\n",
    "for players in football_stars:    # this stores the names of football_stars in a variable players\n",
    "                                  # The for loop executes from the start value Ronaldo to the last value casillas and then the for loop stops \n",
    "    print(players)                "
   ]
  },
  {
   "cell_type": "code",
   "execution_count": 63,
   "id": "ef5dc69c",
   "metadata": {},
   "outputs": [
    {
     "name": "stdout",
     "output_type": "stream",
     "text": [
      "Arnold Schwarzenegger\n",
      "Ronnie Coleman\n",
      "Chris Bumstead\n",
      "Jeff Nippard\n",
      "David Laid\n"
     ]
    }
   ],
   "source": [
    "gym_boys = ['Arnold Schwarzenegger','Ronnie Coleman','Chris Bumstead','Jeff Nippard','David Laid']\n",
    "for gym in gym_boys:\n",
    "    print(gym)"
   ]
  },
  {
   "cell_type": "code",
   "execution_count": 64,
   "id": "88d81db9",
   "metadata": {},
   "outputs": [],
   "source": [
    "# Lets break down the gym_boys code just above this comment\n",
    "# 1 - the list is created by the name gym_boys\n",
    "# 2 - in the for loop there is a variable gym which is empty and the first element of gym_boys is stored [Arnold Schwarzenegger]\n",
    "# 3 - Then the next print statement is executed [Arnold Schwarzenegger]\n",
    "\n",
    "# 4 - Then the loop goes to the next name [Ronnie Coleman] this is stored in the gym next \n",
    "# 5 - Then the print statement executes [Ronnie Coleman]\n",
    "\n",
    "# 5 - these steps go on until the last value \n",
    "# 6 - The last value David Laid is stored in the gym variable\n",
    "# 7 - this is then printed [David Laid]\n",
    "# 8 - now when the loop is runned again the gym_boys does not contain any value so the execution of the for loop stops "
   ]
  },
  {
   "cell_type": "code",
   "execution_count": 65,
   "id": "399db441",
   "metadata": {},
   "outputs": [
    {
     "name": "stdout",
     "output_type": "stream",
     "text": [
      "cat\n",
      "lion\n",
      "tiger\n",
      "crocodile\n",
      "monkey\n",
      "giraffee\n"
     ]
    }
   ],
   "source": [
    "animals = ['cat','lion','tiger','crocodile','monkey','giraffee']\n",
    "for animal in animals:\n",
    "    print(animal)"
   ]
  },
  {
   "cell_type": "code",
   "execution_count": 68,
   "id": "e9519a84",
   "metadata": {},
   "outputs": [
    {
     "name": "stdout",
     "output_type": "stream",
     "text": [
      "Arnold Schwarzenegger keep going, oneeee morreeee reeepppp !!!\n",
      "Pump! Pump! Pump!\n",
      "\n",
      "Ronnie Coleman keep going, oneeee morreeee reeepppp !!!\n",
      "Pump! Pump! Pump!\n",
      "\n",
      "Chris Bumstead keep going, oneeee morreeee reeepppp !!!\n",
      "Pump! Pump! Pump!\n",
      "\n",
      "Jeff Nippard keep going, oneeee morreeee reeepppp !!!\n",
      "Pump! Pump! Pump!\n",
      "\n",
      "David Laid keep going, oneeee morreeee reeepppp !!!\n",
      "Pump! Pump! Pump!\n",
      "\n"
     ]
    }
   ],
   "source": [
    "# Now lets motivate each gym boy in the list \n",
    "\n",
    "for gym in gym_boys:\n",
    "    print(gym.title(),'keep going, oneeee morreeee reeepppp !!!')\n",
    "    print(\"Pump! Pump! Pump!\\n\")"
   ]
  },
  {
   "cell_type": "markdown",
   "id": "bab3a0b1",
   "metadata": {},
   "source": [
    "### After a for loop"
   ]
  },
  {
   "cell_type": "code",
   "execution_count": 70,
   "id": "210bc0f2",
   "metadata": {},
   "outputs": [
    {
     "name": "stdout",
     "output_type": "stream",
     "text": [
      "Arnold Schwarzenegger keep going, oneeee morreeee reeepppp !!!\n",
      "Pump! Pump! Pump!\n",
      "\n",
      "Ronnie Coleman keep going, oneeee morreeee reeepppp !!!\n",
      "Pump! Pump! Pump!\n",
      "\n",
      "Chris Bumstead keep going, oneeee morreeee reeepppp !!!\n",
      "Pump! Pump! Pump!\n",
      "\n",
      "Jeff Nippard keep going, oneeee morreeee reeepppp !!!\n",
      "Pump! Pump! Pump!\n",
      "\n",
      "David Laid keep going, oneeee morreeee reeepppp !!!\n",
      "Pump! Pump! Pump!\n",
      "\n",
      "Amazing work guys !! \n",
      "Keep it up !\n"
     ]
    }
   ],
   "source": [
    "for gym in gym_boys:\n",
    "    print(gym.title(),'keep going, oneeee morreeee reeepppp !!!')\n",
    "    print(\"Pump! Pump! Pump!\\n\")\n",
    "print(\"Amazing work guys !! \") # This will print after the for loop is completed \n",
    "print(\"Keep it up !\")"
   ]
  },
  {
   "cell_type": "markdown",
   "id": "15b99dd5",
   "metadata": {},
   "source": [
    "### range() Function"
   ]
  },
  {
   "cell_type": "code",
   "execution_count": 71,
   "id": "30b51595",
   "metadata": {},
   "outputs": [
    {
     "name": "stdout",
     "output_type": "stream",
     "text": [
      "1\n",
      "2\n",
      "3\n",
      "4\n",
      "5\n"
     ]
    }
   ],
   "source": [
    "for value in range(1,6): # range starts from 1 and ends at 5\n",
    "    print(value)"
   ]
  },
  {
   "cell_type": "code",
   "execution_count": 72,
   "id": "e94d758f",
   "metadata": {},
   "outputs": [
    {
     "name": "stdout",
     "output_type": "stream",
     "text": [
      "0\n",
      "1\n",
      "2\n",
      "3\n",
      "4\n",
      "5\n",
      "6\n",
      "7\n",
      "8\n",
      "9\n"
     ]
    }
   ],
   "source": [
    "for i in range(10): # This starts at 0 [because 0 is a default start point] and ends at 9 \n",
    "    print(i)"
   ]
  },
  {
   "cell_type": "markdown",
   "id": "131d4fcc",
   "metadata": {},
   "source": [
    "### Making List of Numbers "
   ]
  },
  {
   "cell_type": "code",
   "execution_count": 73,
   "id": "26b169d3",
   "metadata": {},
   "outputs": [
    {
     "name": "stdout",
     "output_type": "stream",
     "text": [
      "[1, 2, 3, 4, 5]\n"
     ]
    }
   ],
   "source": [
    "numbers = list(range(1,6))  # the range() creates a list of numbers from 1 to 5 and these numbers are converted to list \n",
    "                            # The list() converts the numbers into a list\n",
    "print(numbers)"
   ]
  },
  {
   "cell_type": "code",
   "execution_count": 74,
   "id": "f738e64d",
   "metadata": {},
   "outputs": [
    {
     "name": "stdout",
     "output_type": "stream",
     "text": [
      "[1, 3, 5, 7, 9, 11, 13, 15, 17, 19, 21, 23, 25, 27, 29, 31, 33, 35, 37, 39, 41, 43, 45, 47, 49]\n"
     ]
    }
   ],
   "source": [
    "num = list(range(1,50,2)) # we can even skip numbers using the range() \n",
    "                          # This code gives all the alternative numbers between 1-50\n",
    "print(num)"
   ]
  },
  {
   "cell_type": "code",
   "execution_count": 75,
   "id": "c36bb819",
   "metadata": {},
   "outputs": [
    {
     "name": "stdout",
     "output_type": "stream",
     "text": [
      "[1, 4, 9, 16, 25, 36, 49, 64, 81, 100]\n"
     ]
    }
   ],
   "source": [
    "square_num = []   # This is an empty list \n",
    "for num in range(1,11):\n",
    "    square=num**2          # Squaring the num and storing it in a variable square\n",
    "    square_num.append(square) # appending the value stored in square into the list \n",
    "print(square_num) # We get the updated list consisting of squares from 1-10"
   ]
  },
  {
   "cell_type": "code",
   "execution_count": 77,
   "id": "df9acaf2",
   "metadata": {},
   "outputs": [
    {
     "name": "stdout",
     "output_type": "stream",
     "text": [
      "[1, 4, 9, 16, 25, 36, 49, 64, 81, 100]\n"
     ]
    }
   ],
   "source": [
    "# Another way of writting the above code \n",
    "square_num = []\n",
    "for num in range(1,11):\n",
    "    square_num.append(num**2)\n",
    "print(square_num)"
   ]
  },
  {
   "cell_type": "code",
   "execution_count": 78,
   "id": "9830c059",
   "metadata": {},
   "outputs": [
    {
     "name": "stdout",
     "output_type": "stream",
     "text": [
      "[2, 4, 6, 8, 10, 12, 14, 16, 18, 20]\n"
     ]
    }
   ],
   "source": [
    "sum_num = [] # This is an empty list\n",
    "for num in range(1,11):\n",
    "    add = num + num    # We are adding the num value twice and storing it in a variable add \n",
    "    sum_num.append(add) # We are updating the values stored in add into the list sum_num \n",
    "print(sum_num) # We get the list as the sum of the number itself"
   ]
  },
  {
   "cell_type": "markdown",
   "id": "63a4ac46",
   "metadata": {},
   "source": [
    "### Simple Statistics with List of Number"
   ]
  },
  {
   "cell_type": "code",
   "execution_count": 79,
   "id": "68aa30a3",
   "metadata": {},
   "outputs": [],
   "source": [
    "digits = [1,2,3,4,5,6,7,8,9]"
   ]
  },
  {
   "cell_type": "code",
   "execution_count": 81,
   "id": "bef36e64",
   "metadata": {},
   "outputs": [
    {
     "name": "stdout",
     "output_type": "stream",
     "text": [
      "1\n",
      "9\n",
      "45\n"
     ]
    }
   ],
   "source": [
    "print(min(digits)) # Gives the minimum value of the list \n",
    "print(max(digits)) # Gives the maximum value of the list\n",
    "print(sum(digits)) # Gives the sum of all the digits "
   ]
  },
  {
   "cell_type": "code",
   "execution_count": 84,
   "id": "8bde26fc",
   "metadata": {},
   "outputs": [
    {
     "name": "stdout",
     "output_type": "stream",
     "text": [
      "[1, 3, 5, 7, 9, 11]\n"
     ]
    }
   ],
   "source": [
    "# Finding the odd numbers between 1-11\n",
    "num = []\n",
    "for n in range(1,12,2):\n",
    "    num.append(n)\n",
    "print(num)"
   ]
  },
  {
   "cell_type": "markdown",
   "id": "a093431b",
   "metadata": {},
   "source": [
    "### Slicing in a List"
   ]
  },
  {
   "cell_type": "code",
   "execution_count": 86,
   "id": "ca2c1398",
   "metadata": {},
   "outputs": [
    {
     "name": "stdout",
     "output_type": "stream",
     "text": [
      "['Mustang', 'Lamborghini', 'Fortuner', 'Ford Mustang', 'Ferrari', 'Buggati', 'BMW']\n"
     ]
    }
   ],
   "source": [
    "print(cars)"
   ]
  },
  {
   "cell_type": "code",
   "execution_count": 87,
   "id": "28c79d99",
   "metadata": {},
   "outputs": [
    {
     "name": "stdout",
     "output_type": "stream",
     "text": [
      "['Mustang', 'Lamborghini', 'Fortuner']\n",
      "['Lamborghini', 'Fortuner', 'Ford Mustang']\n"
     ]
    }
   ],
   "source": [
    "# [start_index: stop_index: step_count]\n",
    "print(cars[0:3])  # Gives the values present at index 0,1 and 2 \n",
    "print(cars[1:4])  # Gives the values present at index 1,2,3, and 4 "
   ]
  },
  {
   "cell_type": "code",
   "execution_count": 89,
   "id": "83bd7b93",
   "metadata": {},
   "outputs": [
    {
     "name": "stdout",
     "output_type": "stream",
     "text": [
      "['Mustang', 'Lamborghini', 'Fortuner', 'Ford Mustang', 'Ferrari']\n",
      "['Ferrari', 'Buggati', 'BMW']\n"
     ]
    }
   ],
   "source": [
    "print(cars[:5]) # Gives the values present at index 0,1,2,3 and 4\n",
    "                # If start_index is not provided, the default value taken is 0 \n",
    "    \n",
    "print(cars[4:]) # Gives the values starting from index 4 to the end \n",
    "                # If end_index is not provided, the default value taken is length of the list "
   ]
  },
  {
   "cell_type": "code",
   "execution_count": 107,
   "id": "98db7ca3",
   "metadata": {},
   "outputs": [
    {
     "name": "stdout",
     "output_type": "stream",
     "text": [
      "['Ferrari', 'Buggati', 'BMW']\n",
      "['Ford Mustang', 'Ferrari', 'Buggati']\n"
     ]
    }
   ],
   "source": [
    "# negative slicing\n",
    "\n",
    "print(cars[-3:]) # This gives the values of cars from the last value upto the 3rd last value in the list \n",
    "\n",
    "print(cars[-4:-1]) # This gives the values of cars from second last value upto the 4th last value in the list"
   ]
  },
  {
   "cell_type": "markdown",
   "id": "9644af19",
   "metadata": {},
   "source": [
    "### Using for loops with slicing "
   ]
  },
  {
   "cell_type": "code",
   "execution_count": 95,
   "id": "4e85449f",
   "metadata": {},
   "outputs": [
    {
     "name": "stdout",
     "output_type": "stream",
     "text": [
      "['Ronaldo', 'Kaka', 'Benzema', 'Ramos', 'Pepe', 'Casillas']\n"
     ]
    }
   ],
   "source": [
    "print(football_stars)"
   ]
  },
  {
   "cell_type": "code",
   "execution_count": 100,
   "id": "025a194d",
   "metadata": {},
   "outputs": [
    {
     "name": "stdout",
     "output_type": "stream",
     "text": [
      "My first 3 choices -\n",
      "RONALDO\n",
      "KAKA\n",
      "BENZEMA\n"
     ]
    }
   ],
   "source": [
    "print(\"My first 3 choices -\")\n",
    "for players in football_stars[:3]:\n",
    "\n",
    "    print(players.upper())"
   ]
  },
  {
   "cell_type": "markdown",
   "id": "4d87aa09",
   "metadata": {},
   "source": [
    "### Copying list "
   ]
  },
  {
   "cell_type": "code",
   "execution_count": 113,
   "id": "27d06e70",
   "metadata": {},
   "outputs": [
    {
     "name": "stdout",
     "output_type": "stream",
     "text": [
      "['Butter Chicken', 'Chicken Biryani', 'Chicken Khorma', 'Pizza']\n",
      "['Butter Chicken', 'Chicken Biryani', 'Chicken Khorma', 'Pizza']\n"
     ]
    }
   ],
   "source": [
    "Mine_favorite_food = [\"Butter Chicken\",'Chicken Biryani','Chicken Khorma','Pizza'] \n",
    "print(Mine_favorite_food)\n",
    "frnds_fav_food = Mine_favorite_food[:] # The [:] includes all the values from the Mine_favorite_food and stores it in the new list \n",
    "print(frnds_fav_food)"
   ]
  },
  {
   "cell_type": "code",
   "execution_count": null,
   "id": "6d1eb36e",
   "metadata": {},
   "outputs": [],
   "source": []
  }
 ],
 "metadata": {
  "kernelspec": {
   "display_name": "Python 3 (ipykernel)",
   "language": "python",
   "name": "python3"
  },
  "language_info": {
   "codemirror_mode": {
    "name": "ipython",
    "version": 3
   },
   "file_extension": ".py",
   "mimetype": "text/x-python",
   "name": "python",
   "nbconvert_exporter": "python",
   "pygments_lexer": "ipython3",
   "version": "3.11.5"
  }
 },
 "nbformat": 4,
 "nbformat_minor": 5
}
