{
 "cells": [
  {
   "cell_type": "markdown",
   "id": "5061595e",
   "metadata": {},
   "source": [
    "## Lesson 3 "
   ]
  },
  {
   "cell_type": "markdown",
   "id": "404a3b16",
   "metadata": {},
   "source": [
    "--> Tuple  \n",
    "--> Looping through all values of Tuple  \n",
    "--> Overwriting a Tuple  \n",
    "--> if statement  \n",
    "--> Conditional Tests  \n",
    "--> Checking Inequality  \n",
    "--> Numerical Comparisions  \n",
    "--> Checking Multiple Conditions  \n",
    "--> Checking a Value in a List  \n",
    "--> Checking a Value Not In a List  \n",
    "--> Boolean Expressions  \n",
    "--> Simple IF Statement  \n",
    "--> IF - Else statement  \n",
    "--> IF-ELIF-ELSE statement  \n",
    "--> Using more than one elif block  \n",
    "--> Testing Multiple Conditions  \n",
    "--> Checking Special Items  \n",
    "--> Checking a list is Empty or Not  \n",
    "--> Using Multiple Lists  "
   ]
  },
  {
   "cell_type": "markdown",
   "id": "facf5c48",
   "metadata": {},
   "source": [
    "### Tuple"
   ]
  },
  {
   "cell_type": "code",
   "execution_count": 1,
   "id": "571e6618",
   "metadata": {},
   "outputs": [
    {
     "name": "stdout",
     "output_type": "stream",
     "text": [
      "100\n",
      "50\n"
     ]
    }
   ],
   "source": [
    "dimmensions = (100,50) # Tuples are stored in () \n",
    "                       # Tuples once created cannot be modified \n",
    "\n",
    "print(dimmensions[0])\n",
    "print(dimmensions[1])"
   ]
  },
  {
   "cell_type": "code",
   "execution_count": 4,
   "id": "db8ce4f0",
   "metadata": {},
   "outputs": [
    {
     "name": "stdout",
     "output_type": "stream",
     "text": [
      "Pizza\n",
      "American Snack Pack\n"
     ]
    }
   ],
   "source": [
    "food=('Biryani','pizza','American snack pack','idly','dosa','Kebabs')\n",
    "print(food[1].title())\n",
    "print(food[2].title())"
   ]
  },
  {
   "cell_type": "markdown",
   "id": "aa3e057d",
   "metadata": {},
   "source": [
    "### Looping through all values of Tuple"
   ]
  },
  {
   "cell_type": "code",
   "execution_count": 5,
   "id": "14de0b14",
   "metadata": {},
   "outputs": [
    {
     "name": "stdout",
     "output_type": "stream",
     "text": [
      "100\n",
      "50\n"
     ]
    }
   ],
   "source": [
    "dimmensions = (100,50)\n",
    "for dimmension in dimmensions:\n",
    "    print(dimmension)"
   ]
  },
  {
   "cell_type": "code",
   "execution_count": 7,
   "id": "c1240a9f",
   "metadata": {},
   "outputs": [
    {
     "name": "stdout",
     "output_type": "stream",
     "text": [
      "Biryani\n",
      "Pizza\n",
      "American Snack Pack\n",
      "Idly\n",
      "Dosa\n",
      "Kebabs\n"
     ]
    }
   ],
   "source": [
    "food=('Biryani','pizza','American snack pack','idly','dosa','Kebabs')\n",
    "for item in food:\n",
    "    print(item.title())"
   ]
  },
  {
   "cell_type": "markdown",
   "id": "b7d728d4",
   "metadata": {},
   "source": [
    "### Overwriting a Tuple "
   ]
  },
  {
   "cell_type": "code",
   "execution_count": 9,
   "id": "e2a24cb0",
   "metadata": {},
   "outputs": [
    {
     "name": "stdout",
     "output_type": "stream",
     "text": [
      "Original Dimension-\n",
      "100\n",
      "50\n",
      "Updated Dimension-\n",
      "400\n",
      "200\n"
     ]
    }
   ],
   "source": [
    "dimensions = (100,50)\n",
    "print(\"Original Dimension-\")\n",
    "for dimension in dimensions:\n",
    "    print(dimension)\n",
    "\n",
    "dimensions = (400,200)\n",
    "print(\"Updated Dimension-\")\n",
    "for dimension in dimensions:\n",
    "    print(dimension)   # Modifying is not possible but overwriting a tuple is accepted "
   ]
  },
  {
   "cell_type": "code",
   "execution_count": 11,
   "id": "01e5ec61",
   "metadata": {},
   "outputs": [
    {
     "name": "stdout",
     "output_type": "stream",
     "text": [
      "Old Menu-\n",
      "Biryani\n",
      "Pizza\n",
      "American Snack Pack\n",
      "Idly\n",
      "Dosa\n",
      "Kebabs\n",
      "\n",
      "New Menu-\n",
      "Biryani\n",
      "Pizza\n",
      "American Snack Pack\n",
      "Idly\n",
      "Dosa\n",
      "Kebabs\n",
      "Burger\n",
      "Butter Chicken\n"
     ]
    }
   ],
   "source": [
    "food=('Biryani','pizza','American snack pack','idly','dosa','Kebabs')\n",
    "print('Old Menu-')\n",
    "for item in food:\n",
    "    print(item.title())\n",
    "\n",
    "food=('Biryani','pizza','American snack pack','idly','dosa','Kebabs','Burger','butter chicken')\n",
    "print(\"\\nNew Menu-\")\n",
    "for item in food:\n",
    "    print(item.title())"
   ]
  },
  {
   "cell_type": "markdown",
   "id": "ad31effb",
   "metadata": {},
   "source": [
    "### if statement"
   ]
  },
  {
   "cell_type": "code",
   "execution_count": 14,
   "id": "9b37a646",
   "metadata": {},
   "outputs": [
    {
     "name": "stdout",
     "output_type": "stream",
     "text": [
      "Toyota Supra\n",
      "BMW\n",
      "Mercedees Benz\n",
      "Ford Mustang\n",
      "GTR\n",
      "Ferrari\n"
     ]
    }
   ],
   "source": [
    "cars = ['toyota supra','bmw','mercedees benz','ford mustang','gtr','ferrari']\n",
    "for car in cars:\n",
    "    if car == 'bmw' or car == 'gtr':  # In this case, if statement checks if the car value is bmw if it is it prints BMW as output\n",
    "                                      # If the car value is gtr it prints GTR as output \n",
    "        print(car.upper())\n",
    "    else:                             # else - if the car value is not bmw or gtr then the else statement takes action and prints the title() of remaining car values \n",
    "        print(car.title())"
   ]
  },
  {
   "cell_type": "code",
   "execution_count": 23,
   "id": "e1763704",
   "metadata": {},
   "outputs": [
    {
     "name": "stdout",
     "output_type": "stream",
     "text": [
      "\n",
      " Biryani is healthy\n",
      "\n",
      " MANDI is not healty\n",
      "\n",
      " SHAWARMA is not healty\n",
      "\n",
      " PIZZA is not healty\n",
      "\n",
      " BURGER is not healty\n",
      "\n",
      " ICE-CREAM is not healty\n",
      "\n",
      " Butter Chicken is healthy\n",
      "\n",
      " Chicken-Khorma is healthy\n"
     ]
    }
   ],
   "source": [
    "food = [\"Biryani\",'Mandi',\"shawarma\",'pizza','burger','ice-cream','butter chicken','chicken-khorma']\n",
    "\n",
    "for item in food:\n",
    "    if item == 'Biryani' or item == 'chicken-khorma' or item == 'butter chicken':  # Checks the condition were the item values are Biryani , chicken-khorma, butter chicken\n",
    "       \n",
    "        print('\\n',item.title(),\"is healthy\") # if the values are true then this statement is printed \n",
    "    else:                # If the values are not Biryani, chicken-khorma, butter chicken then this statement executes \n",
    "        print('\\n',item.upper(),'is not healty')"
   ]
  },
  {
   "cell_type": "markdown",
   "id": "d580a5c2",
   "metadata": {},
   "source": [
    "### Conditional Tests"
   ]
  },
  {
   "cell_type": "code",
   "execution_count": 27,
   "id": "da3cf153",
   "metadata": {},
   "outputs": [
    {
     "name": "stdout",
     "output_type": "stream",
     "text": [
      "value of car is BMW- True\n",
      "value of car is GTR- False\n"
     ]
    }
   ],
   "source": [
    "car = \"BMW\" # We are assigning a value to car --> BMW\n",
    "print(\"value of car is BMW-\",car == 'BMW') # Now we are checking the codition  [ the '==' checks the condition and gives the result in boolean - true or false]\n",
    "            # Here the value we gave to car is BMW and we are checking if the value assigned is also BMW. Hence, it gives a true output\n",
    "    \n",
    "print(\"value of car is GTR-\",car == \"GTR\")  # Here we get a false because we have assigned a value of BMW to car   \n"
   ]
  },
  {
   "cell_type": "code",
   "execution_count": 28,
   "id": "d00ddcaf",
   "metadata": {},
   "outputs": [
    {
     "data": {
      "text/plain": [
       "True"
      ]
     },
     "execution_count": 28,
     "metadata": {},
     "output_type": "execute_result"
    }
   ],
   "source": [
    "# another example \n",
    "\n",
    "car = \"BMW\" # Here we are assigning BMW to car \n",
    "car.lower() == 'bmw' \n",
    "# car.lower() converts the BMW -> bmw and the value that we are checking it with is a lower case bmw\n",
    "# Therefore we get a value as True , were bmw == bmw"
   ]
  },
  {
   "cell_type": "markdown",
   "id": "c51f6eaa",
   "metadata": {},
   "source": [
    "### Checking Inequality "
   ]
  },
  {
   "cell_type": "code",
   "execution_count": 32,
   "id": "78338a25",
   "metadata": {},
   "outputs": [
    {
     "name": "stdout",
     "output_type": "stream",
     "text": [
      "guilty\n"
     ]
    }
   ],
   "source": [
    "accused = 'guilty'  # here I am assigning a value guilty to accused\n",
    "if accused != 'guilty':  # Here we check if the value of accused is guilty or not \n",
    "                        # --> the value of accused is guilty hence the if statement generates false and moves on to the else statement\n",
    "    print(\"Not guilty\")\n",
    "else:                  # The else block runs because the if statement generates false \n",
    "    print(\"guilty\")"
   ]
  },
  {
   "cell_type": "code",
   "execution_count": 33,
   "id": "a9b0e460",
   "metadata": {},
   "outputs": [
    {
     "name": "stdout",
     "output_type": "stream",
     "text": [
      "Not guilty\n"
     ]
    }
   ],
   "source": [
    "accused = 'not guilty' # here I am assigning a value not guilty to accused \n",
    "if accused != 'guilty':  # the condition is checked and results in true output , value of accuesed is 'not guilty' != 'guilty'\n",
    "    print(\"Not guilty\") # Hence this statement is printed \n",
    "else:\n",
    "    print(\"guilty\")"
   ]
  },
  {
   "cell_type": "markdown",
   "id": "d20c81aa",
   "metadata": {},
   "source": [
    "### Numerical Comparisions "
   ]
  },
  {
   "cell_type": "code",
   "execution_count": 35,
   "id": "acf66955",
   "metadata": {},
   "outputs": [
    {
     "name": "stdout",
     "output_type": "stream",
     "text": [
      "False\n",
      "True\n",
      "False\n",
      "True\n",
      "True\n"
     ]
    }
   ],
   "source": [
    "age = 22 # Here we are assigning a value of 22 to age \n",
    "print(age == 19) # This results in False, because value of age is 22 and 22 is not equal to 19\n",
    "print(age>18) # This results in True , because the value of age is greater than 18 \n",
    "print(age<12) # This results in False , because the value of age is not less than 12 \n",
    "print(age != 18) # This results in True , because the value of age is 22 which is not equal to 18\n",
    "print(age>=22) # This results in True , because the value of age is 22 which is equal to 22 "
   ]
  },
  {
   "cell_type": "markdown",
   "id": "1ddd162b",
   "metadata": {},
   "source": [
    "### Checking Multiple Conditions"
   ]
  },
  {
   "cell_type": "code",
   "execution_count": 36,
   "id": "9b132a82",
   "metadata": {},
   "outputs": [
    {
     "name": "stdout",
     "output_type": "stream",
     "text": [
      "False\n",
      "True\n"
     ]
    }
   ],
   "source": [
    "age_1 = 22 \n",
    "age_2 = 33 \n",
    "\n",
    "# and condition \n",
    "#  1st value     2nd Value     Result\n",
    "#    T              T            T\n",
    "#    F              T            F\n",
    "#    T              F            F\n",
    "#    F              F            T\n",
    "\n",
    "print(age_1 >= 22 and age_2 < 30) # Here the value on the left is true and the value on the right is false. So the overall result printed will be False \n",
    "print(age_1 >= 22 and age_2 < 50) # Here the value on the right is true and the value on the left is also true. So the overall result printed will be True\n",
    "    "
   ]
  },
  {
   "cell_type": "code",
   "execution_count": 38,
   "id": "d4a303f6",
   "metadata": {},
   "outputs": [
    {
     "name": "stdout",
     "output_type": "stream",
     "text": [
      "True\n",
      "False\n",
      "True\n"
     ]
    }
   ],
   "source": [
    "age_1 = 22 \n",
    "age_2 = 33 \n",
    "\n",
    "# or condition \n",
    "#  1st value     2nd Value     Result\n",
    "#    T              T            T\n",
    "#    F              T            T\n",
    "#    T              F            T\n",
    "#    F              F            T\n",
    "\n",
    "print(age_1 > 18 or age_2 < 10) # Here the left value is true and the right value is False. However the result will be True\n",
    "print(age_1 <= 19 or age_2 > 50) # Here the left value is False and the right value is False. The result will be False \n",
    "print(age_1 == 22 or age_2 > 30) # Here the left and right values are True. Hence the result will be True "
   ]
  },
  {
   "cell_type": "markdown",
   "id": "302380b0",
   "metadata": {},
   "source": [
    "### Checking a Value in a List "
   ]
  },
  {
   "cell_type": "code",
   "execution_count": 39,
   "id": "50bf0915",
   "metadata": {},
   "outputs": [
    {
     "name": "stdout",
     "output_type": "stream",
     "text": [
      "True\n",
      "False\n"
     ]
    }
   ],
   "source": [
    "snacks = ['Lays','Choclates',\"candy\"]\n",
    "\n",
    "print('Lays' in snacks)  # This checks if Lays is present in the list snacks, As it is present the result is True\n",
    "print('Biscuits' in snacks) # This checks if Biscuits are present in the list snacks, As it is not present the result is False "
   ]
  },
  {
   "cell_type": "code",
   "execution_count": 42,
   "id": "1a00f348",
   "metadata": {},
   "outputs": [
    {
     "name": "stdout",
     "output_type": "stream",
     "text": [
      "Item exists in snack list!\n"
     ]
    }
   ],
   "source": [
    "# Another way of writing the above code using the if and else statement \n",
    "if 'Lays' in snacks:\n",
    "    print(\"Item exists in snack list!\")\n",
    "else:\n",
    "    print(\"Item not found.\")"
   ]
  },
  {
   "cell_type": "code",
   "execution_count": 43,
   "id": "33ca3a00",
   "metadata": {},
   "outputs": [
    {
     "name": "stdout",
     "output_type": "stream",
     "text": [
      "Item Not Found\n"
     ]
    }
   ],
   "source": [
    "# Another way of writing the above code using the if and else statement \n",
    "if 'Biscuits' in snacks:\n",
    "    print(\"Item exists in snack list\")\n",
    "else:\n",
    "    print(\"Item Not Found\")"
   ]
  },
  {
   "cell_type": "markdown",
   "id": "b109c278",
   "metadata": {},
   "source": [
    "### Checking a Value Not In a List"
   ]
  },
  {
   "cell_type": "code",
   "execution_count": 41,
   "id": "eaacd9a3",
   "metadata": {},
   "outputs": [
    {
     "name": "stdout",
     "output_type": "stream",
     "text": [
      "False\n",
      "True\n"
     ]
    }
   ],
   "source": [
    "snacks = ['Lays','Choclates',\"candy\"]\n",
    "\n",
    "print('Lays' not in snacks) # This checks if Lays is not present in the list snacks, As it is present it gives the result False \n",
    "print('Biscuits' not in snacks) # This checks if Biscuits are present in the list snacks, As it is not present it gives the result True"
   ]
  },
  {
   "cell_type": "code",
   "execution_count": 45,
   "id": "0e34ef90",
   "metadata": {},
   "outputs": [
    {
     "name": "stdout",
     "output_type": "stream",
     "text": [
      "Item already present in snacks list\n"
     ]
    }
   ],
   "source": [
    "# Another way of writing the above code using the if and else statement \n",
    "if 'candy' not in snacks:\n",
    "    print(\"Item not in snacks\")\n",
    "else:\n",
    "    print(\"Item already present in snacks list\")"
   ]
  },
  {
   "cell_type": "code",
   "execution_count": 46,
   "id": "8e9b011b",
   "metadata": {},
   "outputs": [
    {
     "name": "stdout",
     "output_type": "stream",
     "text": [
      "Item not in snacks\n"
     ]
    }
   ],
   "source": [
    "# Another way of writing the above code using the if and else statement \n",
    "if 'Biscuits' not in snacks:\n",
    "    print(\"Item not in snacks\")\n",
    "else:\n",
    "    print(\"Item already present in snacks list\")"
   ]
  },
  {
   "cell_type": "markdown",
   "id": "f0e9a924",
   "metadata": {},
   "source": [
    "### Boolean Expressions"
   ]
  },
  {
   "cell_type": "code",
   "execution_count": 47,
   "id": "5cba3ef6",
   "metadata": {},
   "outputs": [
    {
     "name": "stdout",
     "output_type": "stream",
     "text": [
      "Person is rich\n"
     ]
    }
   ],
   "source": [
    "# You can even give boolean values to variables \n",
    "\n",
    "rich = True    # Here we are assigning a boolean value[True] to rich \n",
    "money = 100000000  \n",
    "\n",
    "if money > 15000 and rich == True:  # The left side and the right side are True so the print statement of if statement executes \n",
    "    print(\"Person is rich\")\n",
    "else:\n",
    "    print(\"Work hard and get rich\")"
   ]
  },
  {
   "cell_type": "code",
   "execution_count": 48,
   "id": "a115f3a9",
   "metadata": {},
   "outputs": [
    {
     "name": "stdout",
     "output_type": "stream",
     "text": [
      "Work hard and get rich\n"
     ]
    }
   ],
   "source": [
    "rich = True    # Here we are assigning a boolean value[True] to rich \n",
    "money = 100000000  \n",
    "\n",
    "if money > 15000 and rich == False:  # The left side is True and the right side is False. The overall result is False\n",
    "                                     # so the print statement of else statement executes \n",
    "    print(\"Person is rich\")\n",
    "else:\n",
    "    print(\"Work hard and get rich\")"
   ]
  },
  {
   "cell_type": "markdown",
   "id": "77282e77",
   "metadata": {},
   "source": [
    "### Simple IF Statement "
   ]
  },
  {
   "cell_type": "code",
   "execution_count": 49,
   "id": "3f2b713f",
   "metadata": {},
   "outputs": [
    {
     "name": "stdout",
     "output_type": "stream",
     "text": [
      "You are eligible to vote\n"
     ]
    }
   ],
   "source": [
    "age = 19            # The age has a value of 19 \n",
    "if age >= 18:       # The condition says if the age is greater than 18 then execute the print statement [19>18]\n",
    "    print('You are eligible to vote')"
   ]
  },
  {
   "cell_type": "code",
   "execution_count": 53,
   "id": "4d8b856e",
   "metadata": {},
   "outputs": [],
   "source": [
    "age = 19        # The age has a value of 19\n",
    "if age >= 20:    # The condition says if the age is greater than 20 then execute the print statement [19<20]. It is false so nothing is executed \n",
    "    print(\"You should start earning\")"
   ]
  },
  {
   "cell_type": "markdown",
   "id": "79406913",
   "metadata": {},
   "source": [
    "### IF - Else statement "
   ]
  },
  {
   "cell_type": "code",
   "execution_count": 50,
   "id": "252365f8",
   "metadata": {},
   "outputs": [
    {
     "name": "stdout",
     "output_type": "stream",
     "text": [
      "Turn 18 and you will be able to vote\n"
     ]
    }
   ],
   "source": [
    "age = 17                # Age has a value of 17\n",
    "if age >=18:          # If 17>=18 which is true then the print statement below the if statement runs \n",
    "    print(\"You are eligible to vote\")\n",
    "else:                 # if the if statement is not true then the else block will execute\n",
    "    print('Turn 18 and you will be able to vote')"
   ]
  },
  {
   "cell_type": "code",
   "execution_count": 52,
   "id": "2055433d",
   "metadata": {},
   "outputs": [
    {
     "name": "stdout",
     "output_type": "stream",
     "text": [
      "Develop yourself to be capable of earning once you turn 20\n"
     ]
    }
   ],
   "source": [
    "age = 18        # Age has a value of 18\n",
    "if age >= 20:   # 18 >= 20 which is False so the if block won't execute\n",
    "    print(\"You should start earning\")\n",
    "else:          # As the if block is false , the else block is True so it executes \n",
    "    print(\"Develop yourself to be capable of earning once you turn 20\")"
   ]
  },
  {
   "cell_type": "markdown",
   "id": "1085fdac",
   "metadata": {},
   "source": [
    "### IF-ELIF-ELSE statement"
   ]
  },
  {
   "cell_type": "code",
   "execution_count": 54,
   "id": "b148df2c",
   "metadata": {},
   "outputs": [
    {
     "name": "stdout",
     "output_type": "stream",
     "text": [
      "Ticket price is $2\n"
     ]
    }
   ],
   "source": [
    "age = 16          # Age has a value of 16\n",
    "\n",
    "if age<=4:       # Checking the condition 16<=4 which is False so the if block won't execute\n",
    "    print(\"Ticket is free\")\n",
    "    \n",
    "elif age > 4 and age < 18:   # Checking the condition 16>4 [True] and 16 < 18 [True] so the elif block results in True and will execute\n",
    "    print(\"Ticket price is $2\")\n",
    "else:\n",
    "    print(\"Ticket price is $3\")"
   ]
  },
  {
   "cell_type": "code",
   "execution_count": 55,
   "id": "c5ca3e24",
   "metadata": {},
   "outputs": [
    {
     "name": "stdout",
     "output_type": "stream",
     "text": [
      "Ticket is free\n"
     ]
    }
   ],
   "source": [
    "age = 2          # Age has a value of 2\n",
    "\n",
    "if age<=4:       # Checking the condition 2<=4 [True] so the if block will execute\n",
    "    print(\"Ticket is free\")\n",
    "    \n",
    "elif age > 4 and age < 18:   \n",
    "    print(\"Ticket price is $2\")\n",
    "else:\n",
    "    print(\"Ticket price is $3\")"
   ]
  },
  {
   "cell_type": "code",
   "execution_count": 56,
   "id": "85a8d0f6",
   "metadata": {},
   "outputs": [
    {
     "name": "stdout",
     "output_type": "stream",
     "text": [
      "Ticket price is $3\n"
     ]
    }
   ],
   "source": [
    "age = 30          # Age has a value of 30\n",
    "\n",
    "if age<=4:       # Checking the condition 30<=4 which is False so the if block won't execute\n",
    "    print(\"Ticket is free\")\n",
    "    \n",
    "elif age > 4 and age < 18:   # Checking the condition 30>4 [True] and 30 < 18 [False] so the elif block results in False and will not execute\n",
    "    print(\"Ticket price is $2\")\n",
    "else:         # As the above two condition results in False, So the else block executes \n",
    "    print(\"Ticket price is $3\")"
   ]
  },
  {
   "cell_type": "markdown",
   "id": "f85dd8f2",
   "metadata": {},
   "source": [
    "### Using more than one elif block"
   ]
  },
  {
   "cell_type": "code",
   "execution_count": 57,
   "id": "4105801b",
   "metadata": {},
   "outputs": [
    {
     "name": "stdout",
     "output_type": "stream",
     "text": [
      "Ticket price - $3.50\n"
     ]
    }
   ],
   "source": [
    "age = 55       # Value of age is 55 \n",
    "\n",
    "if age<5:     # Checking condition 55 < 5 [False]  Hence this block won't execute\n",
    "    print(\"No entry ticket required \")\n",
    "elif age < 18: # Checking condition 55 < 18 [False]. Hence this block won't execute\n",
    "    print(\"Ticket price - $2.50\")\n",
    "elif age < 55: # Checking condition 55<55 [False]. Hence this block won't execute \n",
    "    print(\"Ticket price - $5\")\n",
    "elif age<99:   # Checking condition 55<99[True]. Hence this block will execute\n",
    "    print(\"Ticket price - $3.50\")\n",
    "else:\n",
    "    print(\"Ticket price - $3.00\")"
   ]
  },
  {
   "cell_type": "markdown",
   "id": "82a570ca",
   "metadata": {},
   "source": [
    "### Testing Multiple Conditions "
   ]
  },
  {
   "cell_type": "code",
   "execution_count": 60,
   "id": "d751295a",
   "metadata": {},
   "outputs": [
    {
     "name": "stdout",
     "output_type": "stream",
     "text": [
      "Ticket price is $2\n"
     ]
    }
   ],
   "source": [
    "age = 16          # Age has a value of 16\n",
    "\n",
    "if age<=4:       # This block won't execute\n",
    "    print(\"Ticket is free\")\n",
    "    \n",
    "elif age > 4 and age < 18:   # This block will execute\n",
    "    print(\"Ticket price is $2\")\n",
    "else:               # This block won't execute because the program ends when the elif block executes \n",
    "    print(\"Ticket price is $3\")"
   ]
  },
  {
   "cell_type": "code",
   "execution_count": 59,
   "id": "1ae242b0",
   "metadata": {},
   "outputs": [
    {
     "name": "stdout",
     "output_type": "stream",
     "text": [
      "Shoulder Press workout present in shoulder workout\n",
      "Lateral Raises workout present in shoulder workout\n"
     ]
    }
   ],
   "source": [
    "shoulder_workout = [\"Shoulder Press\",\"Lateral Raises\"]     \n",
    "\n",
    "if 'Shoulder Press' in shoulder_workout:            # Checks if Shoulder Press is present in the list, This is true so this block will execute\n",
    "                                                    # The program won't end here because the entire program has if blocks\n",
    "    print(\"Shoulder Press workout present in shoulder workout\")\n",
    "if 'Front Raises' in shoulder_workout:              # Checks if Front Raises is present in the list, This is false so this block won't execute\n",
    "                                                    # The program won't end here because the entire program has if blocks\n",
    "    print(\"Front Raises workout present in shoulder workout\")\n",
    "if 'Lateral Raises' in shoulder_workout:            # Checks if Lateral Raises is present in the list, This is true so this block will execute\n",
    "                                                    # The program won't end here because the entire program has if blocks\n",
    "    print(\"Lateral Raises workout present in shoulder workout\")\n",
    "    \n",
    "# if we used if=elif-else block here the code would have ended in the first if statement "
   ]
  },
  {
   "cell_type": "markdown",
   "id": "b73d218e",
   "metadata": {},
   "source": [
    "### Checking Special Items"
   ]
  },
  {
   "cell_type": "code",
   "execution_count": 63,
   "id": "a1683566",
   "metadata": {},
   "outputs": [
    {
     "name": "stdout",
     "output_type": "stream",
     "text": [
      "Sugar\n",
      "Salt\n",
      "Onions\n",
      "Potato\n",
      "Finished adding items to the list\n"
     ]
    }
   ],
   "source": [
    "# This is a simple for loop code\n",
    "\n",
    "groccery_list = [\"Sugar\",\"Salt\",'Onions','Potato']\n",
    "\n",
    "for item in groccery_list:\n",
    "    print(item)\n",
    "print(\"Finished adding items to the list\")"
   ]
  },
  {
   "cell_type": "code",
   "execution_count": 70,
   "id": "dd7557bc",
   "metadata": {},
   "outputs": [
    {
     "name": "stdout",
     "output_type": "stream",
     "text": [
      "Sugar\n",
      "Salt\n",
      "Onions [are not present], You can come back again later\n",
      "Potato\n",
      "Finished adding items to the list\n"
     ]
    }
   ],
   "source": [
    "# Now if there are no onions present in the groccery_store\n",
    "\n",
    "groccery_list = [\"Sugar\",\"Salt\",'Onions','Potato']\n",
    "\n",
    "for item in groccery_list:   # This iterates every element present in the groccery_list\n",
    "    if item == 'Onions':      # When the item stores the value of Onions this if block executes \n",
    "        print(item,\"[are not present], You can come back again later\")\n",
    "    else:              # When the value of item is not Onions the else block executes \n",
    "        print(item)\n",
    "print(\"Finished adding items to the list\")\n"
   ]
  },
  {
   "cell_type": "code",
   "execution_count": 72,
   "id": "42550b14",
   "metadata": {},
   "outputs": [
    {
     "name": "stdout",
     "output_type": "stream",
     "text": [
      "Push-Pull-Legs would not be recommended for beginners\n",
      "Upper-Body/Lower-Body\n",
      "Full-Body\n",
      "These are the best splits you should follow\n"
     ]
    }
   ],
   "source": [
    "\n",
    "Workouts = ['Push-Pull-Legs','Upper-Body/Lower-Body','Full-Body']\n",
    "\n",
    "for splits in Workouts:\n",
    "    if splits == 'Push-Pull-Legs':\n",
    "        print(splits,'would not be recommended for beginners')\n",
    "    else:\n",
    "        print(splits)\n",
    "print(\"These are the best splits you should follow\")"
   ]
  },
  {
   "cell_type": "markdown",
   "id": "fb64322f",
   "metadata": {},
   "source": [
    "### Checking a list is Empty or Not "
   ]
  },
  {
   "cell_type": "code",
   "execution_count": 77,
   "id": "0dd3eed5",
   "metadata": {},
   "outputs": [
    {
     "name": "stdout",
     "output_type": "stream",
     "text": [
      "Are you sure you do not want guidance about different splits used ?\n"
     ]
    }
   ],
   "source": [
    "\n",
    "Workouts = []        #This is an empty list \n",
    "if Workouts == 'Push-Pull-Legs':   # The if condition checks if there is Push-Pull-Legs present in the list [False], then the if block doesn't execute\n",
    "    print(Workouts,'would not be recommended for beginners')\n",
    "else:               # As the if block is False then the else block executes \n",
    "    print(\"Are you sure you do not want guidance about different splits used ?\")\n"
   ]
  },
  {
   "cell_type": "markdown",
   "id": "00061673",
   "metadata": {},
   "source": [
    "### Using Multiple Lists"
   ]
  },
  {
   "cell_type": "code",
   "execution_count": 76,
   "id": "acaaf6a7",
   "metadata": {},
   "outputs": [
    {
     "name": "stdout",
     "output_type": "stream",
     "text": [
      "Adding Sprinkles in the milkshake\n",
      "Adding Snickers in the milkshake\n",
      "Topping Lotus-Biscoff isn't available\n",
      "Your Milkshake is ready\n"
     ]
    }
   ],
   "source": [
    "topping_available =['Sprinkles','Kit-kat','Oreo','Nutella','Snickers']  # We are storing a list of toppings available at a milkshake shop\n",
    "\n",
    "toppings_asked = ['Sprinkles','Snickers','Lotus-Biscoff'] # We are storing the toppings that the customer has requested for \n",
    "\n",
    "for topping_ask in toppings_asked: # We are using a for loop and storing the toppings_asked in a variable topping_ask\n",
    "    if topping_ask in topping_available:   # now we are mapping the iterable variable to the topping_available list and if it is [True] then the if block executes \n",
    "        print(\"Adding\",topping_ask,'in the milkshake')\n",
    "    else:     # if the topping that was required is not present in topping_available then the else block executes \n",
    "        print(\"Topping\",topping_ask,\"isn't available\")\n",
    "\n",
    "print(\"Your Milkshake is ready\") # after the execution of the for loop this print statement executes "
   ]
  },
  {
   "cell_type": "code",
   "execution_count": null,
   "id": "368bf582",
   "metadata": {},
   "outputs": [],
   "source": []
  }
 ],
 "metadata": {
  "kernelspec": {
   "display_name": "Python 3 (ipykernel)",
   "language": "python",
   "name": "python3"
  },
  "language_info": {
   "codemirror_mode": {
    "name": "ipython",
    "version": 3
   },
   "file_extension": ".py",
   "mimetype": "text/x-python",
   "name": "python",
   "nbconvert_exporter": "python",
   "pygments_lexer": "ipython3",
   "version": "3.11.5"
  }
 },
 "nbformat": 4,
 "nbformat_minor": 5
}
