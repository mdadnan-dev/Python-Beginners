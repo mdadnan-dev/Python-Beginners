{
 "cells": [
  {
   "cell_type": "markdown",
   "id": "1063381b",
   "metadata": {},
   "source": [
    "## Lesson 5"
   ]
  },
  {
   "cell_type": "markdown",
   "id": "7d5942ac",
   "metadata": {},
   "source": [
    "--> Input()  \n",
    "--> Using int()  \n",
    "--> While Loops  \n",
    "--> Flag  \n",
    "--> Break  \n",
    "--> Continue  \n",
    "--> While Loop on lists  \n",
    "--> While loop on Dictionaries  "
   ]
  },
  {
   "cell_type": "markdown",
   "id": "216e2bd3",
   "metadata": {},
   "source": [
    "### Input()"
   ]
  },
  {
   "cell_type": "code",
   "execution_count": 1,
   "id": "56d6df8c",
   "metadata": {},
   "outputs": [
    {
     "name": "stdout",
     "output_type": "stream",
     "text": [
      "What is your name? \n",
      "Adnan\n",
      "Hello Adnan\n"
     ]
    }
   ],
   "source": [
    "message = input(\"What is your name? \\n\")   # The input() takes the details from the user \n",
    "                                           # input() stores values in string format only \n",
    "\n",
    "print('Hello '+message)    "
   ]
  },
  {
   "cell_type": "code",
   "execution_count": 2,
   "id": "6957c944",
   "metadata": {},
   "outputs": [
    {
     "name": "stdout",
     "output_type": "stream",
     "text": [
      "Tell me something and I will repeat it - Hello World\n",
      "Hello World\n"
     ]
    }
   ],
   "source": [
    "message = input(\"Tell me something and I will repeat it - \")\n",
    "print(message)"
   ]
  },
  {
   "cell_type": "markdown",
   "id": "14d2d81b",
   "metadata": {},
   "source": [
    "### Using int() "
   ]
  },
  {
   "cell_type": "code",
   "execution_count": 6,
   "id": "dc8fe1be",
   "metadata": {},
   "outputs": [
    {
     "name": "stdout",
     "output_type": "stream",
     "text": [
      "Enter your lucky number- 7\n",
      "<class 'str'>\n",
      "After converting the data type, the data type is <class 'int'>\n"
     ]
    }
   ],
   "source": [
    "a = input(\"Enter your lucky number- \")  # Takes an input from the user \n",
    "\n",
    "print(type(a))   # Displays the data type of the value present in variable 'a'\n",
    "\n",
    "a = int(a)  # Converts the string into integer \n",
    "\n",
    "print('After converting the data type, the data type is',type(a))  # Displays the data type of the value present in variable 'a' "
   ]
  },
  {
   "cell_type": "markdown",
   "id": "99724934",
   "metadata": {},
   "source": [
    "### While Loops"
   ]
  },
  {
   "cell_type": "code",
   "execution_count": 7,
   "id": "98d986dd",
   "metadata": {},
   "outputs": [
    {
     "name": "stdout",
     "output_type": "stream",
     "text": [
      "1\n",
      "2\n",
      "3\n",
      "4\n",
      "5\n",
      "6\n"
     ]
    }
   ],
   "source": [
    "number = 1          # We have assigned a value 1 to the variable number \n",
    "while number <= 6:  # Here we are giving a condition that the number should be less than and equal to the value 6 and till that is true, the code with indentation executes until the while condition becomes false \n",
    "    print(number)   # This prints the number\n",
    "    number += 1     # after printing the number the value [1] is incremented [number = number + 1] "
   ]
  },
  {
   "cell_type": "code",
   "execution_count": 3,
   "id": "25d6c075",
   "metadata": {},
   "outputs": [
    {
     "name": "stdout",
     "output_type": "stream",
     "text": [
      "Tell me something, Enter quit to end the program\tHello\n",
      "Hello\n",
      "Tell me something, Enter quit to end the program\tHi \n",
      "Hi \n",
      "Tell me something, Enter quit to end the program\tQuit\n",
      "Quit\n",
      "Tell me something, Enter quit to end the program\tquit\n",
      "quit\n"
     ]
    }
   ],
   "source": [
    "text = 'Tell me something'\n",
    "text += ', Enter quit to end the program\\t'  \n",
    "\n",
    "message = \"\"            # We are creating an empty string \n",
    "\n",
    "# in this while loop we are applying a condition that if the message does not have the value 'quit' The loop will execute\n",
    "# as the message contains nothing [it's an empty string] the loop will execute\n",
    "while message != \"quit\":  \n",
    "    message = input(text)    # We are asked for an input \n",
    "    print(message)         # The input is printed out\n",
    "    \n",
    "# If during the input we type 'quit' then we will exit out from the loop"
   ]
  },
  {
   "cell_type": "code",
   "execution_count": 4,
   "id": "8aea8dde",
   "metadata": {},
   "outputs": [
    {
     "name": "stdout",
     "output_type": "stream",
     "text": [
      "Tell me something, Enter quit to end the program\thello\n",
      "hello\n",
      "Tell me something, Enter quit to end the program\tquit\n"
     ]
    }
   ],
   "source": [
    "text = 'Tell me something'\n",
    "text += ', Enter quit to end the program\\t'\n",
    "\n",
    "message = \"\"                # We are creating an empty string \n",
    "\n",
    "# in this while loop we are applying a condition that if the message does not have the value 'quit' The loop will execute\n",
    "# as the message contains nothing [it's an empty string] the loop will execute\n",
    "\n",
    "while message != \"quit\":     \n",
    "    message = input(text)       # We are asked for a input\n",
    "     \n",
    "    if message != 'quit':     # Now in this condition if the value we entered during the input is not 'quit' then the below line executes\n",
    "        print(message)        # The input is printed out\n",
    "    \n",
    "# If during the input we type 'quit' then we will exit out from the loop"
   ]
  },
  {
   "cell_type": "markdown",
   "id": "3ff799fc",
   "metadata": {},
   "source": [
    "### Flag"
   ]
  },
  {
   "cell_type": "code",
   "execution_count": 1,
   "id": "ca4b2c07",
   "metadata": {},
   "outputs": [
    {
     "name": "stdout",
     "output_type": "stream",
     "text": [
      "Enter anything , but if you want to end the program type : quit -  Hello\n",
      "Hello\n",
      "Enter anything , but if you want to end the program type : quit -  quit\n",
      "Hope to see you again ! \n"
     ]
    }
   ],
   "source": [
    "active = True        # We are assign a boolean value [Flag]\n",
    "text = \"Enter anything , but if you want to end the program type : quit -  \"\n",
    "message = \"\"    # We are assigning an empty string\n",
    "\n",
    "while active:            # The condition states that active is True so until it gets False the loop executes\n",
    "    message = input(text)   # We are asked for a input\n",
    "    \n",
    "    if message != 'quit': # Now in this condition if the value we entered during the input is not 'quit' then the below line executes\n",
    "        print(message)\n",
    "    else:\n",
    "        print(\"Hope to see you again ! \")\n",
    "        active = False          # if the message is 'quit' then the else block runs and here we are changing the value to False, which makes us exit the loop"
   ]
  },
  {
   "cell_type": "code",
   "execution_count": 3,
   "id": "048e15a3",
   "metadata": {},
   "outputs": [
    {
     "name": "stdout",
     "output_type": "stream",
     "text": [
      "Enter anything , but if you want to end the program type : quit -  Hello\n",
      "Hello\n",
      "Enter anything , but if you want to end the program type : quit -  Hi\n",
      "Hi\n",
      "Enter anything , but if you want to end the program type : quit -  quit\n"
     ]
    }
   ],
   "source": [
    "active = True   # We are assign a boolean value [Flag]\n",
    "text = \"Enter anything , but if you want to end the program type : quit -  \"\n",
    "message = \"\"  # We are assigning an empty string\n",
    "\n",
    "\n",
    "while active:   # The condition states that active is True so until it gets False the loop executes\n",
    "    message = input(text)  # We are asked for a input\n",
    "    \n",
    "    if message == 'quit':  # if the message is 'quit' then the block runs and here we are changing the value to False, which makes us exit the loop\n",
    "        active = False    \n",
    "    else:\n",
    "        print(message)"
   ]
  },
  {
   "cell_type": "markdown",
   "id": "4e57a9de",
   "metadata": {},
   "source": [
    "### Break"
   ]
  },
  {
   "cell_type": "code",
   "execution_count": 1,
   "id": "ea742eab",
   "metadata": {},
   "outputs": [
    {
     "name": "stdout",
     "output_type": "stream",
     "text": [
      "Enter city names that you have visited - \n",
      " To exit the program type 'quit' -   Hyderabad\n",
      "Hyderabad\n",
      "Enter city names that you have visited - \n",
      " To exit the program type 'quit' -   Delhi\n",
      "Delhi\n",
      "Enter city names that you have visited - \n",
      " To exit the program type 'quit' -   Mumbai\n",
      "Mumbai\n",
      "Enter city names that you have visited - \n",
      " To exit the program type 'quit' -   quit\n"
     ]
    }
   ],
   "source": [
    "text = \"Enter city names that you have visited -\"\n",
    "text += \" \\n To exit the program type 'quit' -   \"\n",
    "\n",
    "while True:   # The while loop executes until the value becomes False\n",
    "    message = input(text)   # Here we are giving an input text \n",
    "    \n",
    "    if message == \"quit\":  # If the message has a value 'quit' then due to the break statement we will exit out of the loop\n",
    "        break\n",
    "    else:       # If the message has a value other than quit then the below line of code executes \n",
    "        print(message.title())"
   ]
  },
  {
   "cell_type": "markdown",
   "id": "85398140",
   "metadata": {},
   "source": [
    "### Continue"
   ]
  },
  {
   "cell_type": "code",
   "execution_count": 3,
   "id": "952730a0",
   "metadata": {},
   "outputs": [
    {
     "name": "stdout",
     "output_type": "stream",
     "text": [
      "1\n",
      "3\n",
      "5\n",
      "7\n",
      "9\n"
     ]
    }
   ],
   "source": [
    "current_num = 0       # Here we are initializing the value to 0\n",
    "while current_num < 10:   # The condition states that until the current_num stays less than 10 the while loop should execute\n",
    "    current_num += 1  # This is a way of incrementing the number\n",
    "     \n",
    "    if current_num % 2 == 0:   # by this condition we are accessing the even values \n",
    "        continue   # The continue statement takes the program again to the start of the while loop \n",
    "        # For Example :  0 divided by 2 gives a remainder 0 so it is not printed due to the continue statement\n",
    "        \n",
    "    print(current_num)   # As shown above due to that reason we print odd values "
   ]
  },
  {
   "cell_type": "markdown",
   "id": "8feee324",
   "metadata": {},
   "source": [
    "### While Loop on lists "
   ]
  },
  {
   "cell_type": "code",
   "execution_count": 7,
   "id": "e52f7168",
   "metadata": {},
   "outputs": [
    {
     "name": "stdout",
     "output_type": "stream",
     "text": [
      "Authourizing User Ravi\n",
      "Authourizing User Jackson\n",
      "Authourizing User James\n",
      "Authourizing User Adnan\n",
      "\n",
      "Users are authorized:\n",
      "\t Ravi\n",
      "\t Jackson\n",
      "\t James\n",
      "\t Adnan\n"
     ]
    }
   ],
   "source": [
    "unconfirmed_users = ['Adnan','James','Jackson','Ravi']   # These are a list of users\n",
    "confirmed_users= []  # This is an empty list of users\n",
    "\n",
    " # So this statement says while there are values present in the unconfirmed_users it remains True  \n",
    " # and if there are no values present in that variable it is known as False\n",
    "\n",
    "while unconfirmed_users:  \n",
    "    current_user = unconfirmed_users.pop()  # We are poping values from unconfirmed_users and storing it in the current_user variable\n",
    "    print(\"Authourizing User \"+current_user.title())  \n",
    "    confirmed_users.append(current_user)  # Here we are appending the value stored in current_user inside the confirmed_users list\n",
    "print(\"\\nUsers are authorized:\")  \n",
    "for confirmed_user in confirmed_users:   # By using the for loop we are printing all the individual values present inside the list\n",
    "    print('\\t',confirmed_user)"
   ]
  },
  {
   "cell_type": "code",
   "execution_count": 10,
   "id": "e81975ae",
   "metadata": {},
   "outputs": [
    {
     "name": "stdout",
     "output_type": "stream",
     "text": [
      "['cat', 'dog', 'dog', 'cat', 'cat', 'dog', 'dog', 'dog', 'cat', 'cat']\n",
      "['dog', 'dog', 'dog', 'dog', 'dog']\n"
     ]
    }
   ],
   "source": [
    "# We have stored names of some animals in repeated order\n",
    "animals = ['cat','dog','dog','cat','cat','dog','dog','dog','cat','cat']\n",
    "print(animals) \n",
    "\n",
    "# With this condition we are checking if 'cat' is present in the variable \n",
    "# if it is present the the while loop executes because the condition is True\n",
    "# if it is not present the while loop does not execute\n",
    "while 'cat' in animals:  \n",
    "    animals.remove('cat')  # We are removing the values of cat from the list \n",
    "    \n",
    "print(animals)"
   ]
  },
  {
   "cell_type": "markdown",
   "id": "1fe881f8",
   "metadata": {},
   "source": [
    "### While loops on Dictionaries "
   ]
  },
  {
   "cell_type": "code",
   "execution_count": 12,
   "id": "e4c33197",
   "metadata": {},
   "outputs": [
    {
     "name": "stdout",
     "output_type": "stream",
     "text": [
      "What is your name ?  Adnan\n",
      "What is your favourite colour-   Black\n",
      "Do you want to continue (yes/no)-  yes\n",
      "What is your name ?  Jawad\n",
      "What is your favourite colour-   Grey\n",
      "Do you want to continue (yes/no)-  no\n",
      "('Adnan', 'Black')\n",
      "('Jawad', 'Grey')\n"
     ]
    }
   ],
   "source": [
    "responses = {}  # responses is an empty dictionary\n",
    "\n",
    "polling_active = True   # We have set a flag value to True\n",
    "\n",
    "while polling_active:  # This defines that while True the loop should execute\n",
    "    \n",
    "    name = input(\"What is your name ?  \")\n",
    "    colour = input(\"What is your favourite colour-   \")\n",
    "    \n",
    "    responses[name] = colour   # We are creating a key : value pair, with the user input provided \n",
    "    \n",
    "    repeat = input(\"Do you want to continue (yes/no)-  \")   \n",
    "    \n",
    "    if repeat == 'no': # if the user types in no \n",
    "        polling_active = False   # Then the flagged value is changed to False and the While loop won't execute\n",
    "    else:          # Otherwise if the value is other than no the continue statement will take the loop back to the start and execute once again\n",
    "        continue\n",
    "        \n",
    "for response in responses.items():\n",
    "    print(response)"
   ]
  },
  {
   "cell_type": "code",
   "execution_count": null,
   "id": "3c8ab3f7",
   "metadata": {},
   "outputs": [],
   "source": []
  }
 ],
 "metadata": {
  "kernelspec": {
   "display_name": "Python 3 (ipykernel)",
   "language": "python",
   "name": "python3"
  },
  "language_info": {
   "codemirror_mode": {
    "name": "ipython",
    "version": 3
   },
   "file_extension": ".py",
   "mimetype": "text/x-python",
   "name": "python",
   "nbconvert_exporter": "python",
   "pygments_lexer": "ipython3",
   "version": "3.11.5"
  }
 },
 "nbformat": 4,
 "nbformat_minor": 5
}
